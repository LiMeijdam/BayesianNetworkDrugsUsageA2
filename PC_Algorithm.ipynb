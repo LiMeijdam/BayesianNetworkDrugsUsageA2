{
 "cells": [
  {
   "cell_type": "markdown",
   "metadata": {},
   "source": [
    "# PC Algorithm"
   ]
  },
  {
   "cell_type": "markdown",
   "metadata": {},
   "source": [
    "## Library imports"
   ]
  },
  {
   "cell_type": "code",
   "execution_count": 37,
   "metadata": {},
   "outputs": [],
   "source": [
    "# Install statements\n",
    "\n",
    "# install.packages(c(\"remotes\",\"pROC\",\"naivebayes\"))\n",
    "# remotes::install_github(\"jtextor/bayesianNetworks\")\n",
    "# install.packages(\"bnlearn\")\n",
    "# install.packages(\"dagitty\")\n",
    "# install.packages(\"lavaan\")"
   ]
  },
  {
   "cell_type": "code",
   "execution_count": 1,
   "metadata": {},
   "outputs": [
    {
     "name": "stderr",
     "output_type": "stream",
     "text": [
      "Warning message:\n",
      "\"package 'naivebayes' was built under R version 3.6.3\"naivebayes 0.9.7 loaded\n",
      "Warning message:\n",
      "\"package 'bnlearn' was built under R version 3.6.3\"Warning message:\n",
      "\"package 'dagitty' was built under R version 3.6.3\"\n",
      "Attaching package: 'dagitty'\n",
      "\n",
      "The following objects are masked from 'package:bnlearn':\n",
      "\n",
      "    ancestors, children, descendants, parents, spouses\n",
      "\n",
      "Warning message:\n",
      "\"package 'lavaan' was built under R version 3.6.3\"This is lavaan 0.6-7\n",
      "lavaan is BETA software! Please report any bugs.\n"
     ]
    }
   ],
   "source": [
    "# Packages\n",
    "\n",
    "library( bayesianNetworks )\n",
    "library( naivebayes )\n",
    "library( bnlearn )\n",
    "library( dagitty )\n",
    "library( lavaan )"
   ]
  },
  {
   "cell_type": "markdown",
   "metadata": {},
   "source": [
    "## Data Preprocessing"
   ]
  },
  {
   "cell_type": "code",
   "execution_count": 2,
   "metadata": {},
   "outputs": [
    {
     "data": {
      "text/html": [
       "<table>\n",
       "<thead><tr><th scope=col>Age</th><th scope=col>Gender</th><th scope=col>Education</th><th scope=col>Nscore</th><th scope=col>Escore</th><th scope=col>Oscore</th><th scope=col>Ascore</th><th scope=col>Cscore</th><th scope=col>Impulsive</th><th scope=col>Sensation_seeking</th><th scope=col>Caffeine</th><th scope=col>Cannabis</th><th scope=col>Meth</th></tr></thead>\n",
       "<tbody>\n",
       "\t<tr><td>35-44                            </td><td>0                                </td><td>Professional certificate/ diploma</td><td>39                               </td><td>36                               </td><td>42                               </td><td>37                               </td><td>42                               </td><td>-0.21712                         </td><td>-1.18084                         </td><td>6                                </td><td>0                                </td><td>0                                </td></tr>\n",
       "\t<tr><td>25-34                            </td><td>1                                </td><td>Doctorate degree                 </td><td>29                               </td><td>52                               </td><td>55                               </td><td>48                               </td><td>41                               </td><td>-0.71126                         </td><td>-0.21575                         </td><td>6                                </td><td>4                                </td><td>3                                </td></tr>\n",
       "\t<tr><td>35-44                            </td><td>1                                </td><td>Professional certificate/ diploma</td><td>31                               </td><td>45                               </td><td>40                               </td><td>32                               </td><td>34                               </td><td>-1.37983                         </td><td> 0.40148                         </td><td>6                                </td><td>3                                </td><td>0                                </td></tr>\n",
       "\t<tr><td>18-24                            </td><td>0                                </td><td>Masters degree                   </td><td>34                               </td><td>34                               </td><td>46                               </td><td>47                               </td><td>46                               </td><td>-1.37983                         </td><td>-1.18084                         </td><td>5                                </td><td>2                                </td><td>0                                </td></tr>\n",
       "\t<tr><td>35-44                            </td><td>0                                </td><td>Doctorate degree                 </td><td>43                               </td><td>28                               </td><td>43                               </td><td>41                               </td><td>50                               </td><td>-0.21712                         </td><td>-0.21575                         </td><td>6                                </td><td>3                                </td><td>0                                </td></tr>\n",
       "\t<tr><td>65+                              </td><td>0                                </td><td>Left school at 18                </td><td>29                               </td><td>38                               </td><td>35                               </td><td>55                               </td><td>52                               </td><td>-1.37983                         </td><td>-1.54858                         </td><td>6                                </td><td>0                                </td><td>0                                </td></tr>\n",
       "</tbody>\n",
       "</table>\n"
      ],
      "text/latex": [
       "\\begin{tabular}{r|lllllllllllll}\n",
       " Age & Gender & Education & Nscore & Escore & Oscore & Ascore & Cscore & Impulsive & Sensation\\_seeking & Caffeine & Cannabis & Meth\\\\\n",
       "\\hline\n",
       "\t 35-44                             & 0                                 & Professional certificate/ diploma & 39                                & 36                                & 42                                & 37                                & 42                                & -0.21712                          & -1.18084                          & 6                                 & 0                                 & 0                                \\\\\n",
       "\t 25-34                             & 1                                 & Doctorate degree                  & 29                                & 52                                & 55                                & 48                                & 41                                & -0.71126                          & -0.21575                          & 6                                 & 4                                 & 3                                \\\\\n",
       "\t 35-44                             & 1                                 & Professional certificate/ diploma & 31                                & 45                                & 40                                & 32                                & 34                                & -1.37983                          &  0.40148                          & 6                                 & 3                                 & 0                                \\\\\n",
       "\t 18-24                             & 0                                 & Masters degree                    & 34                                & 34                                & 46                                & 47                                & 46                                & -1.37983                          & -1.18084                          & 5                                 & 2                                 & 0                                \\\\\n",
       "\t 35-44                             & 0                                 & Doctorate degree                  & 43                                & 28                                & 43                                & 41                                & 50                                & -0.21712                          & -0.21575                          & 6                                 & 3                                 & 0                                \\\\\n",
       "\t 65+                               & 0                                 & Left school at 18                 & 29                                & 38                                & 35                                & 55                                & 52                                & -1.37983                          & -1.54858                          & 6                                 & 0                                 & 0                                \\\\\n",
       "\\end{tabular}\n"
      ],
      "text/markdown": [
       "\n",
       "| Age | Gender | Education | Nscore | Escore | Oscore | Ascore | Cscore | Impulsive | Sensation_seeking | Caffeine | Cannabis | Meth |\n",
       "|---|---|---|---|---|---|---|---|---|---|---|---|---|\n",
       "| 35-44                             | 0                                 | Professional certificate/ diploma | 39                                | 36                                | 42                                | 37                                | 42                                | -0.21712                          | -1.18084                          | 6                                 | 0                                 | 0                                 |\n",
       "| 25-34                             | 1                                 | Doctorate degree                  | 29                                | 52                                | 55                                | 48                                | 41                                | -0.71126                          | -0.21575                          | 6                                 | 4                                 | 3                                 |\n",
       "| 35-44                             | 1                                 | Professional certificate/ diploma | 31                                | 45                                | 40                                | 32                                | 34                                | -1.37983                          |  0.40148                          | 6                                 | 3                                 | 0                                 |\n",
       "| 18-24                             | 0                                 | Masters degree                    | 34                                | 34                                | 46                                | 47                                | 46                                | -1.37983                          | -1.18084                          | 5                                 | 2                                 | 0                                 |\n",
       "| 35-44                             | 0                                 | Doctorate degree                  | 43                                | 28                                | 43                                | 41                                | 50                                | -0.21712                          | -0.21575                          | 6                                 | 3                                 | 0                                 |\n",
       "| 65+                               | 0                                 | Left school at 18                 | 29                                | 38                                | 35                                | 55                                | 52                                | -1.37983                          | -1.54858                          | 6                                 | 0                                 | 0                                 |\n",
       "\n"
      ],
      "text/plain": [
       "  Age   Gender Education                         Nscore Escore Oscore Ascore\n",
       "1 35-44 0      Professional certificate/ diploma 39     36     42     37    \n",
       "2 25-34 1      Doctorate degree                  29     52     55     48    \n",
       "3 35-44 1      Professional certificate/ diploma 31     45     40     32    \n",
       "4 18-24 0      Masters degree                    34     34     46     47    \n",
       "5 35-44 0      Doctorate degree                  43     28     43     41    \n",
       "6 65+   0      Left school at 18                 29     38     35     55    \n",
       "  Cscore Impulsive Sensation_seeking Caffeine Cannabis Meth\n",
       "1 42     -0.21712  -1.18084          6        0        0   \n",
       "2 41     -0.71126  -0.21575          6        4        3   \n",
       "3 34     -1.37983   0.40148          6        3        0   \n",
       "4 46     -1.37983  -1.18084          5        2        0   \n",
       "5 50     -0.21712  -0.21575          6        3        0   \n",
       "6 52     -1.37983  -1.54858          6        0        0   "
      ]
     },
     "metadata": {},
     "output_type": "display_data"
    }
   ],
   "source": [
    "# Read in the .csv that was created during the preprocessing\n",
    "\n",
    "df <- read.csv('Datasets/Dataset_Coeff_Estimation.csv')\n",
    "\n",
    "# Visually inspect the dataframe\n",
    "\n",
    "head(df)"
   ]
  },
  {
   "cell_type": "code",
   "execution_count": 3,
   "metadata": {},
   "outputs": [],
   "source": [
    "# Apply an ordering to the ordinal drugs labels \n",
    "\n",
    "# We do this instead of simply transforming the labels to numeric \n",
    "#because we don't think that the intervals would correctly represent the data in that case\n",
    "\n",
    "df$Caffeine <- ordered(df$Caffeine, levels =c(\"0\",\"1\",\"2\",\"3\",\"4\",\"5\",\"6\"))\n",
    "df$Cannabis <- ordered(df$Cannabis, levels =c(\"0\",\"1\",\"2\",\"3\",\"4\",\"5\",\"6\"))\n",
    "df$Meth <- ordered(df$Meth, levels =c(\"0\",\"1\",\"2\",\"3\",\"4\",\"5\",\"6\"))\n",
    "\n",
    "# Age and Education have a certain ordinal ordering which we will make use of:\n",
    "\n",
    "df$Age <- ordered(df$Age, levels =c(\"18-24\",\"25-34\",\"35-44\",\"45-54\",\"55-64\",\"65+\"))\n",
    "df$Education <- ordered(df$Education, levels=c(\"Left school before 16\",\"Left school at 16\",\"Left school at 17\",\"Left school at 18\",\"College or university dropout\",\"Professional certificate/ diploma\",\"University degree\",\"Masters degree\",\"Doctorate degree\"))"
   ]
  },
  {
   "cell_type": "code",
   "execution_count": 4,
   "metadata": {},
   "outputs": [
    {
     "name": "stdout",
     "output_type": "stream",
     "text": [
      "[1] \"Train dataset specifications:\"\n",
      "'data.frame':\t1885 obs. of  13 variables:\n",
      " $ Age              : Ord.factor w/ 6 levels \"18-24\"<\"25-34\"<..: 3 2 3 1 3 6 4 3 3 5 ...\n",
      " $ Gender           : int  0 1 1 0 0 0 1 1 0 1 ...\n",
      " $ Education        : Ord.factor w/ 9 levels \"Left school before 16\"<..: 6 9 6 8 9 4 8 2 6 8 ...\n",
      " $ Nscore           : num  39 29 31 34 43 29 31 24 42 33 ...\n",
      " $ Escore           : num  36 52 45 34 28 38 32 52 55 40 ...\n",
      " $ Oscore           : num  42 55 40 46 43 35 43 40 39 36 ...\n",
      " $ Ascore           : num  37 48 32 47 41 55 41 41 48 47 ...\n",
      " $ Cscore           : num  42 41 34 46 50 52 48 52 49 43 ...\n",
      " $ Impulsive        : num  -0.217 -0.711 -1.38 -1.38 -0.217 ...\n",
      " $ Sensation_seeking: num  -1.181 -0.216 0.401 -1.181 -0.216 ...\n",
      " $ Caffeine         : Ord.factor w/ 7 levels \"0\"<\"1\"<\"2\"<\"3\"<..: 7 7 7 6 7 7 7 7 7 7 ...\n",
      " $ Cannabis         : Ord.factor w/ 7 levels \"0\"<\"1\"<\"2\"<\"3\"<..: 1 5 4 3 4 1 2 1 1 2 ...\n",
      " $ Meth             : Ord.factor w/ 7 levels \"0\"<\"1\"<\"2\"<\"3\"<..: 1 4 1 1 1 1 1 1 1 1 ...\n"
     ]
    }
   ],
   "source": [
    "# Inspecting the datatypes present in the dataframe\n",
    "\n",
    "print(\"Train dataset specifications:\")\n",
    "str(df)"
   ]
  },
  {
   "cell_type": "code",
   "execution_count": 5,
   "metadata": {},
   "outputs": [
    {
     "data": {
      "text/html": [
       "<table>\n",
       "<thead><tr><th scope=col>Age</th><th scope=col>Gender</th><th scope=col>Education</th><th scope=col>Nscore</th><th scope=col>Escore</th><th scope=col>Oscore</th><th scope=col>Ascore</th><th scope=col>Cscore</th><th scope=col>Impulsive</th><th scope=col>Sensation_seeking</th><th scope=col>Caffeine</th><th scope=col>Cannabis</th><th scope=col>Meth</th></tr></thead>\n",
       "<tbody>\n",
       "\t<tr><td>35-44                            </td><td>0                                </td><td>Professional certificate/ diploma</td><td>39                               </td><td>36                               </td><td>42                               </td><td>37                               </td><td>42                               </td><td>-0.21712                         </td><td>-1.18084                         </td><td>6                                </td><td>0                                </td><td>0                                </td></tr>\n",
       "\t<tr><td>25-34                            </td><td>1                                </td><td>Doctorate degree                 </td><td>29                               </td><td>52                               </td><td>55                               </td><td>48                               </td><td>41                               </td><td>-0.71126                         </td><td>-0.21575                         </td><td>6                                </td><td>4                                </td><td>3                                </td></tr>\n",
       "\t<tr><td>35-44                            </td><td>1                                </td><td>Professional certificate/ diploma</td><td>31                               </td><td>45                               </td><td>40                               </td><td>32                               </td><td>34                               </td><td>-1.37983                         </td><td> 0.40148                         </td><td>6                                </td><td>3                                </td><td>0                                </td></tr>\n",
       "\t<tr><td>18-24                            </td><td>0                                </td><td>Masters degree                   </td><td>34                               </td><td>34                               </td><td>46                               </td><td>47                               </td><td>46                               </td><td>-1.37983                         </td><td>-1.18084                         </td><td>5                                </td><td>2                                </td><td>0                                </td></tr>\n",
       "\t<tr><td>35-44                            </td><td>0                                </td><td>Doctorate degree                 </td><td>43                               </td><td>28                               </td><td>43                               </td><td>41                               </td><td>50                               </td><td>-0.21712                         </td><td>-0.21575                         </td><td>6                                </td><td>3                                </td><td>0                                </td></tr>\n",
       "\t<tr><td>65+                              </td><td>0                                </td><td>Left school at 18                </td><td>29                               </td><td>38                               </td><td>35                               </td><td>55                               </td><td>52                               </td><td>-1.37983                         </td><td>-1.54858                         </td><td>6                                </td><td>0                                </td><td>0                                </td></tr>\n",
       "</tbody>\n",
       "</table>\n"
      ],
      "text/latex": [
       "\\begin{tabular}{r|lllllllllllll}\n",
       " Age & Gender & Education & Nscore & Escore & Oscore & Ascore & Cscore & Impulsive & Sensation\\_seeking & Caffeine & Cannabis & Meth\\\\\n",
       "\\hline\n",
       "\t 35-44                             & 0                                 & Professional certificate/ diploma & 39                                & 36                                & 42                                & 37                                & 42                                & -0.21712                          & -1.18084                          & 6                                 & 0                                 & 0                                \\\\\n",
       "\t 25-34                             & 1                                 & Doctorate degree                  & 29                                & 52                                & 55                                & 48                                & 41                                & -0.71126                          & -0.21575                          & 6                                 & 4                                 & 3                                \\\\\n",
       "\t 35-44                             & 1                                 & Professional certificate/ diploma & 31                                & 45                                & 40                                & 32                                & 34                                & -1.37983                          &  0.40148                          & 6                                 & 3                                 & 0                                \\\\\n",
       "\t 18-24                             & 0                                 & Masters degree                    & 34                                & 34                                & 46                                & 47                                & 46                                & -1.37983                          & -1.18084                          & 5                                 & 2                                 & 0                                \\\\\n",
       "\t 35-44                             & 0                                 & Doctorate degree                  & 43                                & 28                                & 43                                & 41                                & 50                                & -0.21712                          & -0.21575                          & 6                                 & 3                                 & 0                                \\\\\n",
       "\t 65+                               & 0                                 & Left school at 18                 & 29                                & 38                                & 35                                & 55                                & 52                                & -1.37983                          & -1.54858                          & 6                                 & 0                                 & 0                                \\\\\n",
       "\\end{tabular}\n"
      ],
      "text/markdown": [
       "\n",
       "| Age | Gender | Education | Nscore | Escore | Oscore | Ascore | Cscore | Impulsive | Sensation_seeking | Caffeine | Cannabis | Meth |\n",
       "|---|---|---|---|---|---|---|---|---|---|---|---|---|\n",
       "| 35-44                             | 0                                 | Professional certificate/ diploma | 39                                | 36                                | 42                                | 37                                | 42                                | -0.21712                          | -1.18084                          | 6                                 | 0                                 | 0                                 |\n",
       "| 25-34                             | 1                                 | Doctorate degree                  | 29                                | 52                                | 55                                | 48                                | 41                                | -0.71126                          | -0.21575                          | 6                                 | 4                                 | 3                                 |\n",
       "| 35-44                             | 1                                 | Professional certificate/ diploma | 31                                | 45                                | 40                                | 32                                | 34                                | -1.37983                          |  0.40148                          | 6                                 | 3                                 | 0                                 |\n",
       "| 18-24                             | 0                                 | Masters degree                    | 34                                | 34                                | 46                                | 47                                | 46                                | -1.37983                          | -1.18084                          | 5                                 | 2                                 | 0                                 |\n",
       "| 35-44                             | 0                                 | Doctorate degree                  | 43                                | 28                                | 43                                | 41                                | 50                                | -0.21712                          | -0.21575                          | 6                                 | 3                                 | 0                                 |\n",
       "| 65+                               | 0                                 | Left school at 18                 | 29                                | 38                                | 35                                | 55                                | 52                                | -1.37983                          | -1.54858                          | 6                                 | 0                                 | 0                                 |\n",
       "\n"
      ],
      "text/plain": [
       "  Age   Gender Education                         Nscore Escore Oscore Ascore\n",
       "1 35-44 0      Professional certificate/ diploma 39     36     42     37    \n",
       "2 25-34 1      Doctorate degree                  29     52     55     48    \n",
       "3 35-44 1      Professional certificate/ diploma 31     45     40     32    \n",
       "4 18-24 0      Masters degree                    34     34     46     47    \n",
       "5 35-44 0      Doctorate degree                  43     28     43     41    \n",
       "6 65+   0      Left school at 18                 29     38     35     55    \n",
       "  Cscore Impulsive Sensation_seeking Caffeine Cannabis Meth\n",
       "1 42     -0.21712  -1.18084          6        0        0   \n",
       "2 41     -0.71126  -0.21575          6        4        3   \n",
       "3 34     -1.37983   0.40148          6        3        0   \n",
       "4 46     -1.37983  -1.18084          5        2        0   \n",
       "5 50     -0.21712  -0.21575          6        3        0   \n",
       "6 52     -1.37983  -1.54858          6        0        0   "
      ]
     },
     "metadata": {},
     "output_type": "display_data"
    }
   ],
   "source": [
    "# We need our numerical data as doubles in order for the algorithm to accept them\n",
    "\n",
    "df$Gender <- as.double(df$Gender) \n",
    "df$Nscore <- as.double(df$Nscore) \n",
    "df$Escore <- as.double(df$Escore) \n",
    "df$Oscore <- as.double(df$Oscore) \n",
    "df$Ascore <- as.double(df$Ascore) \n",
    "df$Cscore <- as.double(df$Cscore) \n",
    "\n",
    "head(df)"
   ]
  },
  {
   "cell_type": "code",
   "execution_count": 6,
   "metadata": {},
   "outputs": [
    {
     "name": "stdout",
     "output_type": "stream",
     "text": [
      "[1] \"Train dataset specifications:\"\n",
      "'data.frame':\t1885 obs. of  13 variables:\n",
      " $ Age              : Ord.factor w/ 6 levels \"18-24\"<\"25-34\"<..: 3 2 3 1 3 6 4 3 3 5 ...\n",
      " $ Gender           : num  0 1 1 0 0 0 1 1 0 1 ...\n",
      " $ Education        : Ord.factor w/ 9 levels \"Left school before 16\"<..: 6 9 6 8 9 4 8 2 6 8 ...\n",
      " $ Nscore           : num  39 29 31 34 43 29 31 24 42 33 ...\n",
      " $ Escore           : num  36 52 45 34 28 38 32 52 55 40 ...\n",
      " $ Oscore           : num  42 55 40 46 43 35 43 40 39 36 ...\n",
      " $ Ascore           : num  37 48 32 47 41 55 41 41 48 47 ...\n",
      " $ Cscore           : num  42 41 34 46 50 52 48 52 49 43 ...\n",
      " $ Impulsive        : num  -0.217 -0.711 -1.38 -1.38 -0.217 ...\n",
      " $ Sensation_seeking: num  -1.181 -0.216 0.401 -1.181 -0.216 ...\n",
      " $ Caffeine         : Ord.factor w/ 7 levels \"0\"<\"1\"<\"2\"<\"3\"<..: 7 7 7 6 7 7 7 7 7 7 ...\n",
      " $ Cannabis         : Ord.factor w/ 7 levels \"0\"<\"1\"<\"2\"<\"3\"<..: 1 5 4 3 4 1 2 1 1 2 ...\n",
      " $ Meth             : Ord.factor w/ 7 levels \"0\"<\"1\"<\"2\"<\"3\"<..: 1 4 1 1 1 1 1 1 1 1 ...\n"
     ]
    }
   ],
   "source": [
    "# Inspecting the datatypes present in the dataframe\n",
    "\n",
    "print(\"Train dataset specifications:\")\n",
    "str(df)"
   ]
  },
  {
   "cell_type": "markdown",
   "metadata": {},
   "source": [
    "## Model creation"
   ]
  },
  {
   "cell_type": "code",
   "execution_count": 7,
   "metadata": {
    "scrolled": false
   },
   "outputs": [
    {
     "name": "stderr",
     "output_type": "stream",
     "text": [
      "Warning message in vstruct.apply(arcs = arcs, vs = vs, nodes = nodes, debug = debug):\n",
      "\"vstructure Nscore -> Escore <- Sensation_seeking is not applicable, because one or both arcs are oriented in the opposite direction.\"Warning message in vstruct.apply(arcs = arcs, vs = vs, nodes = nodes, debug = debug):\n",
      "\"vstructure Gender -> Nscore <- Escore is not applicable, because one or both arcs are oriented in the opposite direction.\"Warning message in vstruct.apply(arcs = arcs, vs = vs, nodes = nodes, debug = debug):\n",
      "\"vstructure Gender -> Sensation_seeking <- Escore is not applicable, because one or both arcs are oriented in the opposite direction.\"Warning message in vstruct.apply(arcs = arcs, vs = vs, nodes = nodes, debug = debug):\n",
      "\"vstructure Cscore -> Gender <- Sensation_seeking is not applicable, because one or both arcs are oriented in the opposite direction.\"Warning message in vstruct.apply(arcs = arcs, vs = vs, nodes = nodes, debug = debug):\n",
      "\"vstructure Cscore -> Escore <- Sensation_seeking is not applicable, because one or both arcs are oriented in the opposite direction.\"Warning message in vstruct.apply(arcs = arcs, vs = vs, nodes = nodes, debug = debug):\n",
      "\"vstructure Cscore -> Ascore <- Sensation_seeking is not applicable, because one or both arcs are oriented in the opposite direction.\"Warning message in vstruct.apply(arcs = arcs, vs = vs, nodes = nodes, debug = debug):\n",
      "\"vstructure Gender -> Ascore <- Impulsive is not applicable, because one or both arcs introduce cycles in the graph.\"Warning message in vstruct.apply(arcs = arcs, vs = vs, nodes = nodes, debug = debug):\n",
      "\"vstructure Oscore -> Escore <- Cscore is not applicable, because one or both arcs are oriented in the opposite direction.\""
     ]
    },
    {
     "data": {
      "text/plain": [
       "\n",
       "  Bayesian network learned via Constraint-based methods\n",
       "\n",
       "  model:\n",
       "    [partially directed graph]\n",
       "  nodes:                                 13 \n",
       "  arcs:                                  17 \n",
       "    undirected arcs:                     4 \n",
       "    directed arcs:                       13 \n",
       "  average markov blanket size:           3.69 \n",
       "  average neighbourhood size:            2.62 \n",
       "  average branching factor:              1.00 \n",
       "\n",
       "  learning algorithm:                    PC (Stable) \n",
       "  conditional independence test:         Mutual Information (cond. Gauss.) \n",
       "  alpha threshold:                       0.05 \n",
       "  tests used in the learning procedure:  758 \n"
      ]
     },
     "metadata": {},
     "output_type": "display_data"
    },
    {
     "data": {
      "image/png": "[encoded data removed]",
      "text/plain": [
       "plot without title"
      ]
     },
     "metadata": {},
     "output_type": "display_data"
    }
   ],
   "source": [
    "# The independence-test that is used is the \"Mutual Information test\"  since it is the only (implemented) test \n",
    "# that supports hybrid Bayesian networks\n",
    "\n",
    "no_blacklist_network <- pc.stable(df,undirected=FALSE,alpha=0.05,test=\"mi-cg\")\n",
    "plot(no_blacklist_network)\n",
    "no_blacklist_network\n",
    "\n",
    "# As we can observe from the results there are undirected edges which can occur \n",
    "# because some arc directions are impossible to learn just from data due to score equivalence \n",
    "\n",
    "# Without blacklisted relations, there are some things here that are looking a bit off \n",
    "# E.g. Nothing should be able to influence Age or gender"
   ]
  },
  {
   "cell_type": "code",
   "execution_count": 45,
   "metadata": {},
   "outputs": [
    {
     "data": {
      "text/plain": [
       "\n",
       "  Bayesian network learned via Constraint-based methods\n",
       "\n",
       "  model:\n",
       "   [Age][Gender][Escore][Oscore][Caffeine][Cannabis][Meth][Education|Age]\n",
       "   [Nscore|Gender][Ascore|Gender][Cscore|Gender][Impulsive|Ascore:Cscore]\n",
       "   [Sensation_seeking|Gender:Escore:Oscore:Ascore:Impulsive]\n",
       "  nodes:                                 13 \n",
       "  arcs:                                  11 \n",
       "    undirected arcs:                     0 \n",
       "    directed arcs:                       11 \n",
       "  average markov blanket size:           3.08 \n",
       "  average neighbourhood size:            1.69 \n",
       "  average branching factor:              0.85 \n",
       "\n",
       "  learning algorithm:                    PC (Stable) \n",
       "  conditional independence test:         Mutual Information (cond. Gauss.) \n",
       "  alpha threshold:                       0.05 \n",
       "  tests used in the learning procedure:  316 \n"
      ]
     },
     "metadata": {},
     "output_type": "display_data"
    },
    {
     "data": {
      "image/png": "[encoded data removed]",
      "text/plain": [
       "plot without title"
      ]
     },
     "metadata": {},
     "output_type": "display_data"
    }
   ],
   "source": [
    "# If we make the same assumptions about our data as done in assignment 1 we obtain the following blacklist:\n",
    "\n",
    "blacklist <- data.frame(\n",
    "  \"from\" = c(\n",
    "    \"Gender\",\n",
    "    \"Age\",\n",
    "    rep(\"Escore\",6), #1\n",
    "    rep(\"Oscore\",6), #2\n",
    "    rep(\"Ascore\",6), #3\n",
    "    rep(\"Cscore\",6), #4\n",
    "    rep(\"Nscore\",6), #5\n",
    "    rep(\"Sensation_seeking\",8), #6\n",
    "    rep(\"Impulsive\",7), #7\n",
    "    rep(\"Education\",9), #8\n",
    "    rep(\"Caffeine\",9), #9\n",
    "    rep(\"Cannabis\",9), #10\n",
    "    rep(\"Meth\",9) #11\n",
    "    \n",
    "  ),\n",
    "  \"to\" = c(\n",
    "    \"Age\",\n",
    "    \"Gender\",\n",
    "    \"Oscore\", \"Ascore\", \"Cscore\",\"Nscore\", \"Age\", \"Gender\", #Escore\n",
    "    \"Escore\", \"Ascore\", \"Cscore\",\"Nscore\", \"Age\", \"Gender\", #Oscore\n",
    "    \"Escore\",\"Oscore\",\"Cscore\",\"Nscore\", \"Age\", \"Gender\", #Ascore\n",
    "    \"Escore\",\"Oscore\",\"Ascore\",\"Nscore\", \"Age\", \"Gender\", #Cscore\n",
    "    \"Oscore\",\"Ascore\",\"Cscore\",\"Escore\", \"Age\", \"Gender\", #Nscore\n",
    "    \"Oscore\",\"Ascore\",\"Cscore\",\"Escore\", \"Nscore\", \"Age\", \"Gender\", \"Impulsive\", #Sensation_seeking\n",
    "    \"Oscore\",\"Ascore\",\"Cscore\",\"Escore\", \"Nscore\", \"Age\", \"Gender\", #Impulsive\n",
    "    \"Oscore\",\"Ascore\",\"Cscore\",\"Escore\", \"Nscore\", \"Age\", \"Gender\", \"Sensation_seeking\", \"Impulsive\", #Education\n",
    "    \"Oscore\",\"Ascore\",\"Cscore\",\"Escore\", \"Nscore\", \"Age\", \"Gender\", \"Sensation_seeking\", \"Impulsive\", #Caffeine\n",
    "    \"Oscore\",\"Ascore\",\"Cscore\",\"Escore\", \"Nscore\", \"Age\", \"Gender\", \"Sensation_seeking\", \"Impulsive\", #Cannabis\n",
    "    \"Oscore\",\"Ascore\",\"Cscore\",\"Escore\", \"Nscore\", \"Age\", \"Gender\", \"Sensation_seeking\", \"Impulsive\" #Meth\n",
    "  ))\n",
    "\n",
    "# If we now apply the created blacklist from above we get the following learned network structure\n",
    "\n",
    "a1_blacklist_network <- pc.stable(df, blacklist = blacklist,test=\"mi-cg\")\n",
    "plot(a1_blacklist_network)\n",
    "a1_blacklist_network\n",
    "\n",
    "# Also note that the network seems to contain no directed edges anymore \n",
    "# meaning that it is able to correctly estimate all directions"
   ]
  },
  {
   "cell_type": "markdown",
   "metadata": {},
   "source": [
    "## Parameter Tuning"
   ]
  },
  {
   "cell_type": "markdown",
   "metadata": {},
   "source": [
    "### Alpha Parameter\n",
    "\n",
    "Alpha is the cutoff for the conditional independence test"
   ]
  },
  {
   "cell_type": "markdown",
   "metadata": {},
   "source": [
    "### Max.sx Parameter\n",
    "\n",
    "\t\n",
    "The maximum allowed size of the conditioning sets used in conditional independence tests. "
   ]
  },
  {
   "cell_type": "code",
   "execution_count": 46,
   "metadata": {
    "scrolled": false
   },
   "outputs": [
    {
     "data": {
      "image/png": "[encoded data removed]",
      "text/plain": [
       "Plot with title \"Max.sx = 1\""
      ]
     },
     "metadata": {},
     "output_type": "display_data"
    },
    {
     "data": {
      "image/png": "[encoded data removed]",
      "text/plain": [
       "Plot with title \"Max.sx = 2\""
      ]
     },
     "metadata": {},
     "output_type": "display_data"
    },
    {
     "data": {
      "image/png": "[encoded data removed]",
      "text/plain": [
       "Plot with title \"Max.sx = 3\""
      ]
     },
     "metadata": {},
     "output_type": "display_data"
    },
    {
     "data": {
      "image/png": "[encoded data removed]",
      "text/plain": [
       "Plot with title \"Max.sx = 4\""
      ]
     },
     "metadata": {},
     "output_type": "display_data"
    },
    {
     "data": {
      "image/png": "[encoded data removed]",
      "text/plain": [
       "Plot with title \"Max.sx = 5\""
      ]
     },
     "metadata": {},
     "output_type": "display_data"
    },
    {
     "data": {
      "image/png": "[encoded data removed]",
      "text/plain": [
       "Plot with title \"Max.sx = infinite\""
      ]
     },
     "metadata": {},
     "output_type": "display_data"
    }
   ],
   "source": [
    "scores1 <- vector()\n",
    "for(i in seq(0.005, 0.5, 0.005)){\n",
    "    scores1 <- c(scores1, score(pc.stable(df, blacklist = blacklist,undirected=FALSE,alpha=i,test=\"mi-cg\",max.sx=1), df))}\n",
    "    \n",
    "plot(seq(0.005, 0.5, 0.005),scores1,col=\"blue\",xlab=\"Alpha\",ylab=\"BIC\",main=\"Max.sx = 1\")\n",
    "    \n",
    "scores2 <- vector()\n",
    "for(i in seq(0.005, 0.5, 0.005)){\n",
    "    scores2 <- c(scores2, score(pc.stable(df, blacklist = blacklist,undirected=FALSE,alpha=i,test=\"mi-cg\",max.sx=2), df))}\n",
    "\n",
    "plot(seq(0.005, 0.5, 0.005),scores2,col=\"black\",xlab=\"Alpha\",ylab=\"BIC\",main=\"Max.sx = 2\")\n",
    "    \n",
    "scores3 <- vector()\n",
    "for(i in seq(0.005, 0.5, 0.005)){\n",
    "    scores3 <- c(scores3, score(pc.stable(df, blacklist = blacklist,undirected=FALSE,alpha=i,test=\"mi-cg\",max.sx=3), df))}\n",
    "\n",
    "plot(seq(0.005, 0.5, 0.005),scores3,col=\"green\",xlab=\"Alpha\",ylab=\"BIC\",main=\"Max.sx = 3\")\n",
    "    \n",
    "scores4 <- vector()\n",
    "for(i in seq(0.005, 0.5, 0.005)){\n",
    "    scores4 <- c(scores4, score(pc.stable(df, blacklist = blacklist,undirected=FALSE,alpha=i,test=\"mi-cg\",max.sx=4), df))}\n",
    "\n",
    "plot(seq(0.005, 0.5, 0.005),scores4,col=\"purple\",xlab=\"Alpha\",ylab=\"BIC\",main=\"Max.sx = 4\") \n",
    "    \n",
    "scores5 <- vector()\n",
    "for(i in seq(0.005, 0.5, 0.005)){\n",
    "    scores5 <- c(scores5, score(pc.stable(df, blacklist = blacklist,undirected=FALSE,alpha=i,test=\"mi-cg\",max.sx=5), df))}\n",
    "    \n",
    "plot(seq(0.005, 0.5, 0.005),scores5,col=\"red\",xlab=\"Alpha\",ylab=\"BIC\",main=\"Max.sx = 5\")\n",
    "\n",
    "scoresinf <- vector()\n",
    "for(i in seq(0.005, 0.5, 0.005)){\n",
    "    scoresinf <- c(scoresinf, score(pc.stable(df, blacklist = blacklist,undirected=FALSE,alpha=i,test=\"mi-cg\"), df))}\n",
    "    \n",
    "plot(seq(0.005, 0.5, 0.005),scoresinf,col=\"pink\",xlab=\"Alpha\",ylab=\"BIC\",main=\"Max.sx = infinite\")"
   ]
  },
  {
   "cell_type": "markdown",
   "metadata": {},
   "source": [
    "## Score testing / Model comparison"
   ]
  },
  {
   "cell_type": "code",
   "execution_count": 47,
   "metadata": {},
   "outputs": [
    {
     "name": "stdout",
     "output_type": "stream",
     "text": [
      "[1] \"Best achieved BIC-score and corresponding Alpha value for max.sx 1\"\n"
     ]
    },
    {
     "data": {
      "text/html": [
       "-58606.1996805426"
      ],
      "text/latex": [
       "-58606.1996805426"
      ],
      "text/markdown": [
       "-58606.1996805426"
      ],
      "text/plain": [
       "[1] -58606.2"
      ]
     },
     "metadata": {},
     "output_type": "display_data"
    },
    {
     "name": "stdout",
     "output_type": "stream",
     "text": [
      "[1] 0.44\n",
      "[1] \"Best achieved BIC-score and corresponding Alpha value for max.sx 2\"\n"
     ]
    },
    {
     "data": {
      "text/html": [
       "-51054.9373179702"
      ],
      "text/latex": [
       "-51054.9373179702"
      ],
      "text/markdown": [
       "-51054.9373179702"
      ],
      "text/plain": [
       "[1] -51054.94"
      ]
     },
     "metadata": {},
     "output_type": "display_data"
    },
    {
     "name": "stdout",
     "output_type": "stream",
     "text": [
      "[1] 0.125\n",
      "[1] \"Best achieved BIC-score and corresponding Alpha value for max.sx 3\"\n"
     ]
    },
    {
     "data": {
      "text/html": [
       "-51054.9373179702"
      ],
      "text/latex": [
       "-51054.9373179702"
      ],
      "text/markdown": [
       "-51054.9373179702"
      ],
      "text/plain": [
       "[1] -51054.94"
      ]
     },
     "metadata": {},
     "output_type": "display_data"
    },
    {
     "name": "stdout",
     "output_type": "stream",
     "text": [
      "[1] 0.125\n",
      "[1] \"Best achieved BIC-score and corresponding Alpha value for max.sx 4\"\n"
     ]
    },
    {
     "data": {
      "text/html": [
       "-51054.9373179702"
      ],
      "text/latex": [
       "-51054.9373179702"
      ],
      "text/markdown": [
       "-51054.9373179702"
      ],
      "text/plain": [
       "[1] -51054.94"
      ]
     },
     "metadata": {},
     "output_type": "display_data"
    },
    {
     "name": "stdout",
     "output_type": "stream",
     "text": [
      "[1] 0.125\n",
      "[1] \"Best achieved BIC-score and corresponding Alpha value for max.sx 5\"\n"
     ]
    },
    {
     "data": {
      "text/html": [
       "-51054.9373179702"
      ],
      "text/latex": [
       "-51054.9373179702"
      ],
      "text/markdown": [
       "-51054.9373179702"
      ],
      "text/plain": [
       "[1] -51054.94"
      ]
     },
     "metadata": {},
     "output_type": "display_data"
    },
    {
     "name": "stdout",
     "output_type": "stream",
     "text": [
      "[1] 0.125\n",
      "[1] \"Best achieved BIC-score and corresponding Alpha value for max.sx infinite\"\n"
     ]
    },
    {
     "data": {
      "text/html": [
       "-51054.9373179702"
      ],
      "text/latex": [
       "-51054.9373179702"
      ],
      "text/markdown": [
       "-51054.9373179702"
      ],
      "text/plain": [
       "[1] -51054.94"
      ]
     },
     "metadata": {},
     "output_type": "display_data"
    },
    {
     "name": "stdout",
     "output_type": "stream",
     "text": [
      "[1] 0.125\n"
     ]
    }
   ],
   "source": [
    "print(\"Best achieved BIC-score and corresponding Alpha value for max.sx 1\")\n",
    "max(scores1)\n",
    "best_alpha1 = order(scores1,decreasing=T)[1] * 0.005 + 0.005\n",
    "print(best_alpha1)\n",
    "\n",
    "print(\"Best achieved BIC-score and corresponding Alpha value for max.sx 2\")\n",
    "max(scores2)\n",
    "best_alpha2 = order(scores2,decreasing=T)[1] * 0.005 + 0.005\n",
    "print(best_alpha2)\n",
    "\n",
    "print(\"Best achieved BIC-score and corresponding Alpha value for max.sx 3\")\n",
    "max(scores3)\n",
    "best_alpha3 = order(scores3,decreasing=T)[1] * 0.005 + 0.005\n",
    "print(best_alpha3)\n",
    "\n",
    "print(\"Best achieved BIC-score and corresponding Alpha value for max.sx 4\")\n",
    "max(scores4)\n",
    "best_alpha4 = order(scores4,decreasing=T)[1] * 0.005 + 0.005\n",
    "print(best_alpha4)\n",
    "\n",
    "print(\"Best achieved BIC-score and corresponding Alpha value for max.sx 5\")\n",
    "max(scores5)\n",
    "best_alpha5 = order(scores5,decreasing=T)[1] * 0.005 + 0.005\n",
    "print(best_alpha5)\n",
    "\n",
    "print(\"Best achieved BIC-score and corresponding Alpha value for max.sx infinite\")\n",
    "max(scoresinf)\n",
    "best_alphainf = order(scoresinf,decreasing=T)[1] * 0.005 + 0.005\n",
    "print(best_alphainf)"
   ]
  },
  {
   "cell_type": "markdown",
   "metadata": {},
   "source": [
    "## Optimal graph (finetuned parameters)"
   ]
  },
  {
   "cell_type": "code",
   "execution_count": 51,
   "metadata": {},
   "outputs": [
    {
     "data": {
      "text/plain": [
       "\n",
       "  Bayesian network learned via Constraint-based methods\n",
       "\n",
       "  model:\n",
       "   [Age][Gender][Escore][Caffeine][Cannabis][Meth][Education|Age][Nscore|Gender]\n",
       "   [Oscore|Gender][Ascore|Gender][Cscore|Gender][Impulsive|Ascore:Cscore]\n",
       "   [Sensation_seeking|Gender:Escore:Oscore:Ascore:Impulsive]\n",
       "  nodes:                                 13 \n",
       "  arcs:                                  12 \n",
       "    undirected arcs:                     0 \n",
       "    directed arcs:                       12 \n",
       "  average markov blanket size:           3.08 \n",
       "  average neighbourhood size:            1.85 \n",
       "  average branching factor:              0.92 \n",
       "\n",
       "  learning algorithm:                    PC (Stable) \n",
       "  conditional independence test:         Mutual Information (cond. Gauss.) \n",
       "  alpha threshold:                       0.125 \n",
       "  tests used in the learning procedure:  359 \n"
      ]
     },
     "metadata": {},
     "output_type": "display_data"
    },
    {
     "data": {
      "image/png": "[encoded data removed]",
      "text/plain": [
       "plot without title"
      ]
     },
     "metadata": {},
     "output_type": "display_data"
    }
   ],
   "source": [
    "finetuned_network <- pc.stable(df, blacklist = blacklist,undirected=FALSE,alpha=0.125,test=\"mi-cg\")\n",
    "finetuned_network\n",
    "plot(finetuned_network)"
   ]
  },
  {
   "cell_type": "markdown",
   "metadata": {},
   "source": [
    "## Path Coefficients"
   ]
  },
  {
   "cell_type": "code",
   "execution_count": 54,
   "metadata": {},
   "outputs": [
    {
     "name": "stderr",
     "output_type": "stream",
     "text": [
      "Plot coordinates for graph not supplied! Generating coordinates, see ?coordinates for how to set your own.\n"
     ]
    },
    {
     "data": {
      "image/png": "[encoded data removed]",
      "text/plain": [
       "plot without title"
      ]
     },
     "metadata": {},
     "output_type": "display_data"
    }
   ],
   "source": [
    "# This dagitty formatted string is obtained through a seperate Python parser (see the readme)\n",
    "finetuned_network = \"dag { Age Gender Escore Caffeine Cannabis Meth Education Nscore Oscore Ascore Cscore Impulsive Sensation_seeking Age -> Education Gender -> Nscore Gender -> Oscore Gender -> Ascore Gender -> Cscore Ascore -> Impulsive Cscore -> Impulsive Gender -> Sensation_seeking Escore -> Sensation_seeking Oscore -> Sensation_seeking Ascore -> Sensation_seeking Impulsive -> Sensation_seeking }\"\n",
    "g1 = dagitty(finetuned_network)\n",
    "\n",
    "# Create correlation matrix using lavaan to calculate the path coefficients\n",
    "M <- lavCor(df)\n",
    "model1 <- toString(g1,\"lavaan\")\n",
    "msem <- lavaan(model1, sample.cov=M, sample.nobs=nrow(df),estimator=\"ML\", auto.var=TRUE, fixed.x = FALSE)\n",
    "fg <- lavaanToGraph(msem, digits = 2)\n",
    "plot(fg, show.coefficients = TRUE)"
   ]
  }
 ],
 "metadata": {
  "kernelspec": {
   "display_name": "R",
   "language": "R",
   "name": "ir"
  },
  "language_info": {
   "codemirror_mode": "r",
   "file_extension": ".r",
   "mimetype": "text/x-r-source",
   "name": "R",
   "pygments_lexer": "r",
   "version": "3.6.1"
  }
 },
 "nbformat": 4,
 "nbformat_minor": 4
}
