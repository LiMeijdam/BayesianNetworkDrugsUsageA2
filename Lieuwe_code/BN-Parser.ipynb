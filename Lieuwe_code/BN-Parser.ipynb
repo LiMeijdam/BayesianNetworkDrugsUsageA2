{
 "cells": [
  {
   "cell_type": "code",
   "execution_count": 2,
   "metadata": {},
   "outputs": [],
   "source": [
    "import re\n",
    "import argparse\n",
    "\n",
    "# parser = argparse.ArgumentParser()\n",
    "# parser.add_argument('--bnlearn_string', dest='bnlearn_string', default='[test]', help='bnlearn string')\n",
    "# args = parser.parse_args()\n",
    "\n",
    "def parse(bnlearn_string):\n",
    "\n",
    "    # Split all network nodes and remove first element since this is always an empty array\n",
    "    nodes = bnlearn_string.split(\"[\")\n",
    "    del nodes[0]\n",
    "\n",
    "    node_parent_dict = {}\n",
    "    for node in nodes:\n",
    "\n",
    "        # Split node from parents using the delimeter used by bnlearn\n",
    "        child_parent_split = node.split(\"|\")\n",
    "\n",
    "        # Add nodes + parents (if any) to dictionary\n",
    "        if len(child_parent_split) == 2:\n",
    "            target = child_parent_split[0]\n",
    "            parents = child_parent_split[1]\n",
    "\n",
    "            parent_list = []\n",
    "            for parent in parents.split(\":\"):\n",
    "                parent_list.append(re.search(\"[a-zA-Z]+(?:_[a-zA-Z]+)*\", parent).group(0))\n",
    "            node_parent_dict[target] = parent_list\n",
    "\n",
    "        else:\n",
    "            node = re.search(\"[a-zA-Z]+(?:_[a-zA-Z]+)*\", node).group(0)\n",
    "            node_parent_dict[node] = []\n",
    "\n",
    "    # Construct dagitty string\n",
    "    dagitty_string = \"dag { \"\n",
    "\n",
    "    # First add all \"root\" nodes to the dagitty string\n",
    "    dagitty_string += \" \".join(node_parent_dict.keys())\n",
    "\n",
    "    # Add all parent connections to the dagitty string\n",
    "    for root, parents in node_parent_dict.items():\n",
    "        if len(parents) > 0:\n",
    "            for parent in parents:\n",
    "                dagitty_string += \" {} -> {}\".format(parent, root)\n",
    "\n",
    "    dagitty_string += \" }\"\n",
    "\n",
    "\n",
    "    # Print result\n",
    "    print(dagitty_string)"
   ]
  },
  {
   "cell_type": "code",
   "execution_count": 4,
   "metadata": {},
   "outputs": [
    {
     "name": "stdout",
     "output_type": "stream",
     "text": [
      "dag { Age Gender Nscore Escore Oscore Caffeine Meth Education Ascore Cscore Impulsive Cannabis Sensation_seeking Age -> Education Gender -> Ascore Gender -> Cscore Ascore -> Impulsive Cscore -> Impulsive Age -> Cannabis Education -> Cannabis Gender -> Sensation_seeking Escore -> Sensation_seeking Oscore -> Sensation_seeking Impulsive -> Sensation_seeking }\n"
     ]
    }
   ],
   "source": [
    "bn = \"[Age][Gender][Nscore][Escore][Oscore][Caffeine][Meth][Education|Age][Ascore|Gender][Cscore|Gender][Impulsive|Ascore:Cscore][Cannabis|Age:Education][Sensation_seeking|Gender:Escore:Oscore:Impulsive]\"\n",
    "\n",
    "parse(bn)"
   ]
  },
  {
   "cell_type": "code",
   "execution_count": null,
   "metadata": {},
   "outputs": [],
   "source": []
  }
 ],
 "metadata": {
  "kernelspec": {
   "display_name": "Python 3",
   "language": "python",
   "name": "python3"
  },
  "language_info": {
   "codemirror_mode": {
    "name": "ipython",
    "version": 3
   },
   "file_extension": ".py",
   "mimetype": "text/x-python",
   "name": "python",
   "nbconvert_exporter": "python",
   "pygments_lexer": "ipython3",
   "version": "3.7.9"
  }
 },
 "nbformat": 4,
 "nbformat_minor": 4
}
