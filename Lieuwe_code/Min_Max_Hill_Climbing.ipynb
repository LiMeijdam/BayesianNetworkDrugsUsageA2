{
 "cells": [
  {
   "cell_type": "markdown",
   "metadata": {},
   "source": [
    "# Min Max Hill Climbing"
   ]
  },
  {
   "cell_type": "markdown",
   "metadata": {},
   "source": [
    "## Library imports"
   ]
  },
  {
   "cell_type": "code",
   "execution_count": null,
   "metadata": {},
   "outputs": [],
   "source": [
    "# Install statements\n",
    "\n",
    "# install.packages(c(\"remotes\",\"pROC\",\"naivebayes\"))\n",
    "# remotes::install_github(\"jtextor/bayesianNetworks\")\n",
    "# install.packages(\"bnlearn\")\n",
    "# install.packages(\"dagitty\")\n",
    "# install.packages(\"lavaan\")"
   ]
  },
  {
   "cell_type": "code",
   "execution_count": 7,
   "metadata": {},
   "outputs": [],
   "source": [
    "# Packages\n",
    "\n",
    "library( bayesianNetworks )\n",
    "library( naivebayes )\n",
    "library( bnlearn )\n",
    "library( dagitty )\n",
    "library( lavaan )"
   ]
  },
  {
   "cell_type": "markdown",
   "metadata": {},
   "source": [
    "## Data Preprocessing"
   ]
  },
  {
   "cell_type": "code",
   "execution_count": 2,
   "metadata": {},
   "outputs": [
    {
     "data": {
      "text/html": [
       "<table>\n",
       "<thead><tr><th scope=col>Age</th><th scope=col>Gender</th><th scope=col>Education</th><th scope=col>Nscore</th><th scope=col>Escore</th><th scope=col>Oscore</th><th scope=col>Ascore</th><th scope=col>Cscore</th><th scope=col>Impulsive</th><th scope=col>Sensation_seeking</th><th scope=col>Caffeine</th><th scope=col>Cannabis</th><th scope=col>Meth</th></tr></thead>\n",
       "<tbody>\n",
       "\t<tr><td>35-44                            </td><td>0                                </td><td>Professional certificate/ diploma</td><td>39                               </td><td>36                               </td><td>42                               </td><td>37                               </td><td>42                               </td><td>-0.21712                         </td><td>-1.18084                         </td><td>6                                </td><td>0                                </td><td>0                                </td></tr>\n",
       "\t<tr><td>25-34                            </td><td>1                                </td><td>Doctorate degree                 </td><td>29                               </td><td>52                               </td><td>55                               </td><td>48                               </td><td>41                               </td><td>-0.71126                         </td><td>-0.21575                         </td><td>6                                </td><td>4                                </td><td>3                                </td></tr>\n",
       "\t<tr><td>35-44                            </td><td>1                                </td><td>Professional certificate/ diploma</td><td>31                               </td><td>45                               </td><td>40                               </td><td>32                               </td><td>34                               </td><td>-1.37983                         </td><td> 0.40148                         </td><td>6                                </td><td>3                                </td><td>0                                </td></tr>\n",
       "\t<tr><td>18-24                            </td><td>0                                </td><td>Masters degree                   </td><td>34                               </td><td>34                               </td><td>46                               </td><td>47                               </td><td>46                               </td><td>-1.37983                         </td><td>-1.18084                         </td><td>5                                </td><td>2                                </td><td>0                                </td></tr>\n",
       "\t<tr><td>35-44                            </td><td>0                                </td><td>Doctorate degree                 </td><td>43                               </td><td>28                               </td><td>43                               </td><td>41                               </td><td>50                               </td><td>-0.21712                         </td><td>-0.21575                         </td><td>6                                </td><td>3                                </td><td>0                                </td></tr>\n",
       "\t<tr><td>65+                              </td><td>0                                </td><td>Left school at 18                </td><td>29                               </td><td>38                               </td><td>35                               </td><td>55                               </td><td>52                               </td><td>-1.37983                         </td><td>-1.54858                         </td><td>6                                </td><td>0                                </td><td>0                                </td></tr>\n",
       "</tbody>\n",
       "</table>\n"
      ],
      "text/latex": [
       "\\begin{tabular}{r|lllllllllllll}\n",
       " Age & Gender & Education & Nscore & Escore & Oscore & Ascore & Cscore & Impulsive & Sensation\\_seeking & Caffeine & Cannabis & Meth\\\\\n",
       "\\hline\n",
       "\t 35-44                             & 0                                 & Professional certificate/ diploma & 39                                & 36                                & 42                                & 37                                & 42                                & -0.21712                          & -1.18084                          & 6                                 & 0                                 & 0                                \\\\\n",
       "\t 25-34                             & 1                                 & Doctorate degree                  & 29                                & 52                                & 55                                & 48                                & 41                                & -0.71126                          & -0.21575                          & 6                                 & 4                                 & 3                                \\\\\n",
       "\t 35-44                             & 1                                 & Professional certificate/ diploma & 31                                & 45                                & 40                                & 32                                & 34                                & -1.37983                          &  0.40148                          & 6                                 & 3                                 & 0                                \\\\\n",
       "\t 18-24                             & 0                                 & Masters degree                    & 34                                & 34                                & 46                                & 47                                & 46                                & -1.37983                          & -1.18084                          & 5                                 & 2                                 & 0                                \\\\\n",
       "\t 35-44                             & 0                                 & Doctorate degree                  & 43                                & 28                                & 43                                & 41                                & 50                                & -0.21712                          & -0.21575                          & 6                                 & 3                                 & 0                                \\\\\n",
       "\t 65+                               & 0                                 & Left school at 18                 & 29                                & 38                                & 35                                & 55                                & 52                                & -1.37983                          & -1.54858                          & 6                                 & 0                                 & 0                                \\\\\n",
       "\\end{tabular}\n"
      ],
      "text/markdown": [
       "\n",
       "| Age | Gender | Education | Nscore | Escore | Oscore | Ascore | Cscore | Impulsive | Sensation_seeking | Caffeine | Cannabis | Meth |\n",
       "|---|---|---|---|---|---|---|---|---|---|---|---|---|\n",
       "| 35-44                             | 0                                 | Professional certificate/ diploma | 39                                | 36                                | 42                                | 37                                | 42                                | -0.21712                          | -1.18084                          | 6                                 | 0                                 | 0                                 |\n",
       "| 25-34                             | 1                                 | Doctorate degree                  | 29                                | 52                                | 55                                | 48                                | 41                                | -0.71126                          | -0.21575                          | 6                                 | 4                                 | 3                                 |\n",
       "| 35-44                             | 1                                 | Professional certificate/ diploma | 31                                | 45                                | 40                                | 32                                | 34                                | -1.37983                          |  0.40148                          | 6                                 | 3                                 | 0                                 |\n",
       "| 18-24                             | 0                                 | Masters degree                    | 34                                | 34                                | 46                                | 47                                | 46                                | -1.37983                          | -1.18084                          | 5                                 | 2                                 | 0                                 |\n",
       "| 35-44                             | 0                                 | Doctorate degree                  | 43                                | 28                                | 43                                | 41                                | 50                                | -0.21712                          | -0.21575                          | 6                                 | 3                                 | 0                                 |\n",
       "| 65+                               | 0                                 | Left school at 18                 | 29                                | 38                                | 35                                | 55                                | 52                                | -1.37983                          | -1.54858                          | 6                                 | 0                                 | 0                                 |\n",
       "\n"
      ],
      "text/plain": [
       "  Age   Gender Education                         Nscore Escore Oscore Ascore\n",
       "1 35-44 0      Professional certificate/ diploma 39     36     42     37    \n",
       "2 25-34 1      Doctorate degree                  29     52     55     48    \n",
       "3 35-44 1      Professional certificate/ diploma 31     45     40     32    \n",
       "4 18-24 0      Masters degree                    34     34     46     47    \n",
       "5 35-44 0      Doctorate degree                  43     28     43     41    \n",
       "6 65+   0      Left school at 18                 29     38     35     55    \n",
       "  Cscore Impulsive Sensation_seeking Caffeine Cannabis Meth\n",
       "1 42     -0.21712  -1.18084          6        0        0   \n",
       "2 41     -0.71126  -0.21575          6        4        3   \n",
       "3 34     -1.37983   0.40148          6        3        0   \n",
       "4 46     -1.37983  -1.18084          5        2        0   \n",
       "5 50     -0.21712  -0.21575          6        3        0   \n",
       "6 52     -1.37983  -1.54858          6        0        0   "
      ]
     },
     "metadata": {},
     "output_type": "display_data"
    }
   ],
   "source": [
    "# Read in the .csv that was created during the preprocessing\n",
    "\n",
    "df <- read.csv('Datasets/Dataset_Coeff_Estimation.csv')\n",
    "\n",
    "# Visually inspect the dataframe\n",
    "\n",
    "head(df)"
   ]
  },
  {
   "cell_type": "code",
   "execution_count": 3,
   "metadata": {},
   "outputs": [],
   "source": [
    "# After experimentation with and without ordering the class labels,\n",
    "# We decided to order them because this resulted in more expressive path coefficients\n",
    "\n",
    "df$Caffeine <- ordered(df$Caffeine, levels =c(\"0\",\"1\",\"2\",\"3\",\"4\",\"5\",\"6\"))\n",
    "df$Cannabis <- ordered(df$Cannabis, levels =c(\"0\",\"1\",\"2\",\"3\",\"4\",\"5\",\"6\"))\n",
    "df$Meth <- ordered(df$Meth, levels =c(\"0\",\"1\",\"2\",\"3\",\"4\",\"5\",\"6\"))\n",
    "\n",
    "# Age and Education have a certain ordinal ordering which we will make use of:\n",
    "\n",
    "df$Age <- ordered(df$Age, levels =c(\"18-24\",\"25-34\",\"35-44\",\"45-54\",\"55-64\",\"65+\"))\n",
    "df$Education <- ordered(df$Education, levels=c(\"Left school before 16\",\"Left school at 16\",\"Left school at 17\",\"Left school at 18\",\"College or university dropout\",\"Professional certificate/ diploma\",\"University degree\",\"Masters degree\",\"Doctorate degree\"))"
   ]
  },
  {
   "cell_type": "code",
   "execution_count": 4,
   "metadata": {},
   "outputs": [
    {
     "name": "stdout",
     "output_type": "stream",
     "text": [
      "[1] \"Train dataset specifications:\"\n",
      "'data.frame':\t1885 obs. of  13 variables:\n",
      " $ Age              : Ord.factor w/ 6 levels \"18-24\"<\"25-34\"<..: 3 2 3 1 3 6 4 3 3 5 ...\n",
      " $ Gender           : int  0 1 1 0 0 0 1 1 0 1 ...\n",
      " $ Education        : Ord.factor w/ 9 levels \"Left school before 16\"<..: 6 9 6 8 9 4 8 2 6 8 ...\n",
      " $ Nscore           : num  39 29 31 34 43 29 31 24 42 33 ...\n",
      " $ Escore           : num  36 52 45 34 28 38 32 52 55 40 ...\n",
      " $ Oscore           : num  42 55 40 46 43 35 43 40 39 36 ...\n",
      " $ Ascore           : num  37 48 32 47 41 55 41 41 48 47 ...\n",
      " $ Cscore           : num  42 41 34 46 50 52 48 52 49 43 ...\n",
      " $ Impulsive        : num  -0.217 -0.711 -1.38 -1.38 -0.217 ...\n",
      " $ Sensation_seeking: num  -1.181 -0.216 0.401 -1.181 -0.216 ...\n",
      " $ Caffeine         : Ord.factor w/ 7 levels \"0\"<\"1\"<\"2\"<\"3\"<..: 7 7 7 6 7 7 7 7 7 7 ...\n",
      " $ Cannabis         : Ord.factor w/ 7 levels \"0\"<\"1\"<\"2\"<\"3\"<..: 1 5 4 3 4 1 2 1 1 2 ...\n",
      " $ Meth             : Ord.factor w/ 7 levels \"0\"<\"1\"<\"2\"<\"3\"<..: 1 4 1 1 1 1 1 1 1 1 ...\n"
     ]
    }
   ],
   "source": [
    "# Inspecting the datatypes present in the dataframe\n",
    "\n",
    "print(\"Train dataset specifications:\")\n",
    "str(df)"
   ]
  },
  {
   "cell_type": "code",
   "execution_count": 12,
   "metadata": {},
   "outputs": [],
   "source": [
    "# Apparently doubles are the new big happy\n",
    "\n",
    "df$Gender <- as.double(df$Gender) \n",
    "df$Nscore <- as.double(df$Nscore) \n",
    "df$Escore <- as.double(df$Escore) \n",
    "df$Oscore <- as.double(df$Oscore) \n",
    "df$Ascore <- as.double(df$Ascore) \n",
    "df$Cscore <- as.double(df$Cscore) "
   ]
  },
  {
   "cell_type": "markdown",
   "metadata": {},
   "source": [
    "## Model creation"
   ]
  },
  {
   "cell_type": "code",
   "execution_count": 16,
   "metadata": {},
   "outputs": [
    {
     "data": {
      "text/plain": [
       "\n",
       "  Bayesian network learned via Hybrid methods\n",
       "\n",
       "  model:\n",
       "   [Age][Nscore][Caffeine][Education|Age][Cscore|Nscore][Cannabis|Age]\n",
       "   [Impulsive|Cscore][Meth|Cannabis][Sensation_seeking|Impulsive]\n",
       "   [Gender|Nscore:Sensation_seeking][Oscore|Sensation_seeking]\n",
       "   [Escore|Nscore:Oscore:Cscore:Sensation_seeking][Ascore|Gender:Nscore:Cscore]\n",
       "  nodes:                                 13 \n",
       "  arcs:                                  16 \n",
       "    undirected arcs:                     0 \n",
       "    directed arcs:                       16 \n",
       "  average markov blanket size:           3.23 \n",
       "  average neighbourhood size:            2.46 \n",
       "  average branching factor:              1.23 \n",
       "\n",
       "  learning algorithm:                    Max-Min Hill-Climbing \n",
       "  constraint-based method:               Max-Min Parent Children \n",
       "  conditional independence test:         Mutual Information (cond. Gauss.) \n",
       "  score-based method:                    Hill-Climbing \n",
       "  score:                                 BIC (cond. Gauss.) \n",
       "  alpha threshold:                       0.05 \n",
       "  penalization coefficient:              3.770842 \n",
       "  tests used in the learning procedure:  1598 \n",
       "  optimized:                             TRUE \n"
      ]
     },
     "metadata": {},
     "output_type": "display_data"
    },
    {
     "data": {
      "image/png": "[encoded data removed]",
      "text/plain": [
       "plot without title"
      ]
     },
     "metadata": {},
     "output_type": "display_data"
    }
   ],
   "source": [
    "# Without constraints, there are some things here that are looking a bit off though.... Nothing should be able to influence Age or gender\n",
    "\n",
    "unconstrained_fit <- mmhc(df)\n",
    "plot(unconstrained_fit)\n",
    "unconstrained_fit"
   ]
  },
  {
   "cell_type": "code",
   "execution_count": 14,
   "metadata": {},
   "outputs": [
    {
     "data": {
      "text/html": [
       "<table>\n",
       "<thead><tr><th scope=col>from</th><th scope=col>to</th></tr></thead>\n",
       "<tbody>\n",
       "\t<tr><td>Escore</td><td>Oscore</td></tr>\n",
       "\t<tr><td>Escore</td><td>Ascore</td></tr>\n",
       "\t<tr><td>Escore</td><td>Cscore</td></tr>\n",
       "\t<tr><td>Escore</td><td>Nscore</td></tr>\n",
       "\t<tr><td>Escore</td><td>Age   </td></tr>\n",
       "\t<tr><td>Escore</td><td>Gender</td></tr>\n",
       "\t<tr><td>Oscore</td><td>Escore</td></tr>\n",
       "\t<tr><td>Oscore</td><td>Ascore</td></tr>\n",
       "\t<tr><td>Oscore</td><td>Cscore</td></tr>\n",
       "\t<tr><td>Oscore</td><td>Nscore</td></tr>\n",
       "\t<tr><td>Oscore</td><td>Age   </td></tr>\n",
       "\t<tr><td>Oscore</td><td>Gender</td></tr>\n",
       "\t<tr><td>Ascore</td><td>Escore</td></tr>\n",
       "\t<tr><td>Ascore</td><td>Oscore</td></tr>\n",
       "\t<tr><td>Ascore</td><td>Cscore</td></tr>\n",
       "\t<tr><td>Ascore</td><td>Nscore</td></tr>\n",
       "\t<tr><td>Ascore</td><td>Age   </td></tr>\n",
       "\t<tr><td>Ascore</td><td>Gender</td></tr>\n",
       "\t<tr><td>Cscore</td><td>Escore</td></tr>\n",
       "\t<tr><td>Cscore</td><td>Oscore</td></tr>\n",
       "\t<tr><td>Cscore</td><td>Ascore</td></tr>\n",
       "\t<tr><td>Cscore</td><td>Nscore</td></tr>\n",
       "\t<tr><td>Cscore</td><td>Age   </td></tr>\n",
       "\t<tr><td>Cscore</td><td>Gender</td></tr>\n",
       "\t<tr><td>Nscore</td><td>Oscore</td></tr>\n",
       "\t<tr><td>Nscore</td><td>Ascore</td></tr>\n",
       "\t<tr><td>Nscore</td><td>Cscore</td></tr>\n",
       "\t<tr><td>Nscore</td><td>Escore</td></tr>\n",
       "\t<tr><td>Nscore</td><td>Age   </td></tr>\n",
       "\t<tr><td>Nscore</td><td>Gender</td></tr>\n",
       "\t<tr><td>...</td><td>...</td></tr>\n",
       "\t<tr><td>Caffeine         </td><td>Gender           </td></tr>\n",
       "\t<tr><td>Caffeine         </td><td>Sensation_seeking</td></tr>\n",
       "\t<tr><td>Caffeine         </td><td>Impulsive        </td></tr>\n",
       "\t<tr><td>Caffeine         </td><td>Education        </td></tr>\n",
       "\t<tr><td>Caffeine         </td><td>Cannabis         </td></tr>\n",
       "\t<tr><td>Caffeine         </td><td>Meth             </td></tr>\n",
       "\t<tr><td>Cannabis         </td><td>Oscore           </td></tr>\n",
       "\t<tr><td>Cannabis         </td><td>Ascore           </td></tr>\n",
       "\t<tr><td>Cannabis         </td><td>Cscore           </td></tr>\n",
       "\t<tr><td>Cannabis         </td><td>Escore           </td></tr>\n",
       "\t<tr><td>Cannabis         </td><td>Nscore           </td></tr>\n",
       "\t<tr><td>Cannabis         </td><td>Age              </td></tr>\n",
       "\t<tr><td>Cannabis         </td><td>Gender           </td></tr>\n",
       "\t<tr><td>Cannabis         </td><td>Sensation_seeking</td></tr>\n",
       "\t<tr><td>Cannabis         </td><td>Impulsive        </td></tr>\n",
       "\t<tr><td>Cannabis         </td><td>Education        </td></tr>\n",
       "\t<tr><td>Cannabis         </td><td>Caffeine         </td></tr>\n",
       "\t<tr><td>Cannabis         </td><td>Meth             </td></tr>\n",
       "\t<tr><td>Meth             </td><td>Oscore           </td></tr>\n",
       "\t<tr><td>Meth             </td><td>Ascore           </td></tr>\n",
       "\t<tr><td>Meth             </td><td>Cscore           </td></tr>\n",
       "\t<tr><td>Meth             </td><td>Escore           </td></tr>\n",
       "\t<tr><td>Meth             </td><td>Nscore           </td></tr>\n",
       "\t<tr><td>Meth             </td><td>Age              </td></tr>\n",
       "\t<tr><td>Meth             </td><td>Gender           </td></tr>\n",
       "\t<tr><td>Meth             </td><td>Sensation_seeking</td></tr>\n",
       "\t<tr><td>Meth             </td><td>Impulsive        </td></tr>\n",
       "\t<tr><td>Meth             </td><td>Education        </td></tr>\n",
       "\t<tr><td>Meth             </td><td>Cannabis         </td></tr>\n",
       "\t<tr><td>Meth             </td><td>Caffeine         </td></tr>\n",
       "</tbody>\n",
       "</table>\n"
      ],
      "text/latex": [
       "\\begin{tabular}{r|ll}\n",
       " from & to\\\\\n",
       "\\hline\n",
       "\t Escore & Oscore\\\\\n",
       "\t Escore & Ascore\\\\\n",
       "\t Escore & Cscore\\\\\n",
       "\t Escore & Nscore\\\\\n",
       "\t Escore & Age   \\\\\n",
       "\t Escore & Gender\\\\\n",
       "\t Oscore & Escore\\\\\n",
       "\t Oscore & Ascore\\\\\n",
       "\t Oscore & Cscore\\\\\n",
       "\t Oscore & Nscore\\\\\n",
       "\t Oscore & Age   \\\\\n",
       "\t Oscore & Gender\\\\\n",
       "\t Ascore & Escore\\\\\n",
       "\t Ascore & Oscore\\\\\n",
       "\t Ascore & Cscore\\\\\n",
       "\t Ascore & Nscore\\\\\n",
       "\t Ascore & Age   \\\\\n",
       "\t Ascore & Gender\\\\\n",
       "\t Cscore & Escore\\\\\n",
       "\t Cscore & Oscore\\\\\n",
       "\t Cscore & Ascore\\\\\n",
       "\t Cscore & Nscore\\\\\n",
       "\t Cscore & Age   \\\\\n",
       "\t Cscore & Gender\\\\\n",
       "\t Nscore & Oscore\\\\\n",
       "\t Nscore & Ascore\\\\\n",
       "\t Nscore & Cscore\\\\\n",
       "\t Nscore & Escore\\\\\n",
       "\t Nscore & Age   \\\\\n",
       "\t Nscore & Gender\\\\\n",
       "\t ... & ...\\\\\n",
       "\t Caffeine          & Gender           \\\\\n",
       "\t Caffeine            & Sensation\\_seeking\\\\\n",
       "\t Caffeine          & Impulsive        \\\\\n",
       "\t Caffeine          & Education        \\\\\n",
       "\t Caffeine          & Cannabis         \\\\\n",
       "\t Caffeine          & Meth             \\\\\n",
       "\t Cannabis          & Oscore           \\\\\n",
       "\t Cannabis          & Ascore           \\\\\n",
       "\t Cannabis          & Cscore           \\\\\n",
       "\t Cannabis          & Escore           \\\\\n",
       "\t Cannabis          & Nscore           \\\\\n",
       "\t Cannabis          & Age              \\\\\n",
       "\t Cannabis          & Gender           \\\\\n",
       "\t Cannabis            & Sensation\\_seeking\\\\\n",
       "\t Cannabis          & Impulsive        \\\\\n",
       "\t Cannabis          & Education        \\\\\n",
       "\t Cannabis          & Caffeine         \\\\\n",
       "\t Cannabis          & Meth             \\\\\n",
       "\t Meth              & Oscore           \\\\\n",
       "\t Meth              & Ascore           \\\\\n",
       "\t Meth              & Cscore           \\\\\n",
       "\t Meth              & Escore           \\\\\n",
       "\t Meth              & Nscore           \\\\\n",
       "\t Meth              & Age              \\\\\n",
       "\t Meth              & Gender           \\\\\n",
       "\t Meth                & Sensation\\_seeking\\\\\n",
       "\t Meth              & Impulsive        \\\\\n",
       "\t Meth              & Education        \\\\\n",
       "\t Meth              & Cannabis         \\\\\n",
       "\t Meth              & Caffeine         \\\\\n",
       "\\end{tabular}\n"
      ],
      "text/markdown": [
       "\n",
       "| from | to |\n",
       "|---|---|\n",
       "| Escore | Oscore |\n",
       "| Escore | Ascore |\n",
       "| Escore | Cscore |\n",
       "| Escore | Nscore |\n",
       "| Escore | Age    |\n",
       "| Escore | Gender |\n",
       "| Oscore | Escore |\n",
       "| Oscore | Ascore |\n",
       "| Oscore | Cscore |\n",
       "| Oscore | Nscore |\n",
       "| Oscore | Age    |\n",
       "| Oscore | Gender |\n",
       "| Ascore | Escore |\n",
       "| Ascore | Oscore |\n",
       "| Ascore | Cscore |\n",
       "| Ascore | Nscore |\n",
       "| Ascore | Age    |\n",
       "| Ascore | Gender |\n",
       "| Cscore | Escore |\n",
       "| Cscore | Oscore |\n",
       "| Cscore | Ascore |\n",
       "| Cscore | Nscore |\n",
       "| Cscore | Age    |\n",
       "| Cscore | Gender |\n",
       "| Nscore | Oscore |\n",
       "| Nscore | Ascore |\n",
       "| Nscore | Cscore |\n",
       "| Nscore | Escore |\n",
       "| Nscore | Age    |\n",
       "| Nscore | Gender |\n",
       "| ... | ... |\n",
       "| Caffeine          | Gender            |\n",
       "| Caffeine          | Sensation_seeking |\n",
       "| Caffeine          | Impulsive         |\n",
       "| Caffeine          | Education         |\n",
       "| Caffeine          | Cannabis          |\n",
       "| Caffeine          | Meth              |\n",
       "| Cannabis          | Oscore            |\n",
       "| Cannabis          | Ascore            |\n",
       "| Cannabis          | Cscore            |\n",
       "| Cannabis          | Escore            |\n",
       "| Cannabis          | Nscore            |\n",
       "| Cannabis          | Age               |\n",
       "| Cannabis          | Gender            |\n",
       "| Cannabis          | Sensation_seeking |\n",
       "| Cannabis          | Impulsive         |\n",
       "| Cannabis          | Education         |\n",
       "| Cannabis          | Caffeine          |\n",
       "| Cannabis          | Meth              |\n",
       "| Meth              | Oscore            |\n",
       "| Meth              | Ascore            |\n",
       "| Meth              | Cscore            |\n",
       "| Meth              | Escore            |\n",
       "| Meth              | Nscore            |\n",
       "| Meth              | Age               |\n",
       "| Meth              | Gender            |\n",
       "| Meth              | Sensation_seeking |\n",
       "| Meth              | Impulsive         |\n",
       "| Meth              | Education         |\n",
       "| Meth              | Cannabis          |\n",
       "| Meth              | Caffeine          |\n",
       "\n"
      ],
      "text/plain": [
       "    from     to               \n",
       "1   Escore   Oscore           \n",
       "2   Escore   Ascore           \n",
       "3   Escore   Cscore           \n",
       "4   Escore   Nscore           \n",
       "5   Escore   Age              \n",
       "6   Escore   Gender           \n",
       "7   Oscore   Escore           \n",
       "8   Oscore   Ascore           \n",
       "9   Oscore   Cscore           \n",
       "10  Oscore   Nscore           \n",
       "11  Oscore   Age              \n",
       "12  Oscore   Gender           \n",
       "13  Ascore   Escore           \n",
       "14  Ascore   Oscore           \n",
       "15  Ascore   Cscore           \n",
       "16  Ascore   Nscore           \n",
       "17  Ascore   Age              \n",
       "18  Ascore   Gender           \n",
       "19  Cscore   Escore           \n",
       "20  Cscore   Oscore           \n",
       "21  Cscore   Ascore           \n",
       "22  Cscore   Nscore           \n",
       "23  Cscore   Age              \n",
       "24  Cscore   Gender           \n",
       "25  Nscore   Oscore           \n",
       "26  Nscore   Ascore           \n",
       "27  Nscore   Cscore           \n",
       "28  Nscore   Escore           \n",
       "29  Nscore   Age              \n",
       "30  Nscore   Gender           \n",
       "... ...      ...              \n",
       "60  Caffeine Gender           \n",
       "61  Caffeine Sensation_seeking\n",
       "62  Caffeine Impulsive        \n",
       "63  Caffeine Education        \n",
       "64  Caffeine Cannabis         \n",
       "65  Caffeine Meth             \n",
       "66  Cannabis Oscore           \n",
       "67  Cannabis Ascore           \n",
       "68  Cannabis Cscore           \n",
       "69  Cannabis Escore           \n",
       "70  Cannabis Nscore           \n",
       "71  Cannabis Age              \n",
       "72  Cannabis Gender           \n",
       "73  Cannabis Sensation_seeking\n",
       "74  Cannabis Impulsive        \n",
       "75  Cannabis Education        \n",
       "76  Cannabis Caffeine         \n",
       "77  Cannabis Meth             \n",
       "78  Meth     Oscore           \n",
       "79  Meth     Ascore           \n",
       "80  Meth     Cscore           \n",
       "81  Meth     Escore           \n",
       "82  Meth     Nscore           \n",
       "83  Meth     Age              \n",
       "84  Meth     Gender           \n",
       "85  Meth     Sensation_seeking\n",
       "86  Meth     Impulsive        \n",
       "87  Meth     Education        \n",
       "88  Meth     Cannabis         \n",
       "89  Meth     Caffeine         "
      ]
     },
     "metadata": {},
     "output_type": "display_data"
    }
   ],
   "source": [
    "# Let's make some assumptions about our data (see assignment 1)\n",
    "\n",
    "loops <- data.frame(\n",
    "  \"from\" = c(\n",
    "             rep(\"Escore\",6), \n",
    "             rep(\"Oscore\",6), \n",
    "             rep(\"Ascore\",6), \n",
    "             rep(\"Cscore\",6), \n",
    "             rep(\"Nscore\",6),\n",
    "             rep(\"Sensation_seeking\",7),\n",
    "             rep(\"Impulsive\",7),\n",
    "             rep(\"Education\",9),\n",
    "             rep(\"Caffeine\",12),\n",
    "             rep(\"Cannabis\",12),\n",
    "             rep(\"Meth\",12)\n",
    "\n",
    "             ),\n",
    "  \"to\" = c(\n",
    "           \"Oscore\", \"Ascore\", \"Cscore\",\"Nscore\", \"Age\", \"Gender\",\n",
    "           \"Escore\", \"Ascore\", \"Cscore\",\"Nscore\", \"Age\", \"Gender\",\n",
    "           \"Escore\",\"Oscore\",\"Cscore\",\"Nscore\", \"Age\", \"Gender\",\n",
    "           \"Escore\",\"Oscore\",\"Ascore\",\"Nscore\", \"Age\", \"Gender\",\n",
    "           \"Oscore\",\"Ascore\",\"Cscore\",\"Escore\", \"Age\", \"Gender\",\n",
    "           \"Oscore\",\"Ascore\",\"Cscore\",\"Escore\", \"Nscore\", \"Age\", \"Gender\",\n",
    "           \"Oscore\",\"Ascore\",\"Cscore\",\"Escore\", \"Nscore\", \"Age\", \"Gender\",\n",
    "           \"Oscore\",\"Ascore\",\"Cscore\",\"Escore\", \"Nscore\", \"Age\", \"Gender\", \"Sensation_seeking\", \"Impulsive\",\n",
    "           \"Oscore\",\"Ascore\",\"Cscore\",\"Escore\", \"Nscore\", \"Age\", \"Gender\", \"Sensation_seeking\", \"Impulsive\", \"Education\", \"Cannabis\", \"Meth\",\n",
    "           \"Oscore\",\"Ascore\",\"Cscore\",\"Escore\", \"Nscore\", \"Age\", \"Gender\", \"Sensation_seeking\", \"Impulsive\", \"Education\", \"Caffeine\", \"Meth\",\n",
    "           \"Oscore\",\"Ascore\",\"Cscore\",\"Escore\", \"Nscore\", \"Age\", \"Gender\", \"Sensation_seeking\", \"Impulsive\", \"Education\", \"Cannabis\", \"Caffeine\"\n",
    "           ))\n",
    "loops"
   ]
  },
  {
   "cell_type": "code",
   "execution_count": 15,
   "metadata": {},
   "outputs": [
    {
     "data": {
      "text/plain": [
       "\n",
       "  Bayesian network learned via Hybrid methods\n",
       "\n",
       "  model:\n",
       "   [Age][Gender][Escore][Oscore][Cscore][Caffeine][Meth][Education|Age]\n",
       "   [Nscore|Gender][Ascore|Gender][Sensation_seeking|Gender:Escore:Oscore]\n",
       "   [Cannabis|Age][Impulsive|Cscore:Sensation_seeking]\n",
       "  nodes:                                 13 \n",
       "  arcs:                                  9 \n",
       "    undirected arcs:                     0 \n",
       "    directed arcs:                       9 \n",
       "  average markov blanket size:           2.00 \n",
       "  average neighbourhood size:            1.38 \n",
       "  average branching factor:              0.69 \n",
       "\n",
       "  learning algorithm:                    Max-Min Hill-Climbing \n",
       "  constraint-based method:               Max-Min Parent Children \n",
       "  conditional independence test:         Mutual Information (cond. Gauss.) \n",
       "  score-based method:                    Hill-Climbing \n",
       "  score:                                 BIC (cond. Gauss.) \n",
       "  alpha threshold:                       0.05 \n",
       "  penalization coefficient:              3.770842 \n",
       "  tests used in the learning procedure:  1257 \n",
       "  optimized:                             TRUE \n"
      ]
     },
     "metadata": {},
     "output_type": "display_data"
    },
    {
     "data": {
      "image/png": "[encoded data removed]",
      "text/plain": [
       "plot without title"
      ]
     },
     "metadata": {},
     "output_type": "display_data"
    }
   ],
   "source": [
    "# We are going to need to make this less aggressive in the future \n",
    "# Whitelisting drug interactions, and score interactions\n",
    "\n",
    "fit_constraint_based <- mmhc(df, blacklist = loops)\n",
    "plot(fit_constraint_based)\n",
    "fit_constraint_based"
   ]
  },
  {
   "cell_type": "code",
   "execution_count": 28,
   "metadata": {},
   "outputs": [
    {
     "data": {
      "text/html": [
       "<table>\n",
       "<thead><tr><th scope=col>from</th><th scope=col>to</th></tr></thead>\n",
       "<tbody>\n",
       "\t<tr><td>Escore</td><td>Oscore</td></tr>\n",
       "\t<tr><td>Escore</td><td>Ascore</td></tr>\n",
       "\t<tr><td>Escore</td><td>Cscore</td></tr>\n",
       "\t<tr><td>Escore</td><td>Nscore</td></tr>\n",
       "\t<tr><td>Escore</td><td>Age   </td></tr>\n",
       "\t<tr><td>Escore</td><td>Gender</td></tr>\n",
       "\t<tr><td>Oscore</td><td>Escore</td></tr>\n",
       "\t<tr><td>Oscore</td><td>Ascore</td></tr>\n",
       "\t<tr><td>Oscore</td><td>Cscore</td></tr>\n",
       "\t<tr><td>Oscore</td><td>Nscore</td></tr>\n",
       "\t<tr><td>Oscore</td><td>Age   </td></tr>\n",
       "\t<tr><td>Oscore</td><td>Gender</td></tr>\n",
       "\t<tr><td>Ascore</td><td>Escore</td></tr>\n",
       "\t<tr><td>Ascore</td><td>Oscore</td></tr>\n",
       "\t<tr><td>Ascore</td><td>Cscore</td></tr>\n",
       "\t<tr><td>Ascore</td><td>Nscore</td></tr>\n",
       "\t<tr><td>Ascore</td><td>Age   </td></tr>\n",
       "\t<tr><td>Ascore</td><td>Gender</td></tr>\n",
       "\t<tr><td>Cscore</td><td>Escore</td></tr>\n",
       "\t<tr><td>Cscore</td><td>Oscore</td></tr>\n",
       "\t<tr><td>Cscore</td><td>Ascore</td></tr>\n",
       "\t<tr><td>Cscore</td><td>Nscore</td></tr>\n",
       "\t<tr><td>Cscore</td><td>Age   </td></tr>\n",
       "\t<tr><td>Cscore</td><td>Gender</td></tr>\n",
       "\t<tr><td>Nscore</td><td>Oscore</td></tr>\n",
       "\t<tr><td>Nscore</td><td>Ascore</td></tr>\n",
       "\t<tr><td>Nscore</td><td>Cscore</td></tr>\n",
       "\t<tr><td>Nscore</td><td>Escore</td></tr>\n",
       "\t<tr><td>Nscore</td><td>Age   </td></tr>\n",
       "\t<tr><td>Nscore</td><td>Gender</td></tr>\n",
       "\t<tr><td>...</td><td>...</td></tr>\n",
       "\t<tr><td>Caffeine         </td><td>Gender           </td></tr>\n",
       "\t<tr><td>Caffeine         </td><td>Sensation_seeking</td></tr>\n",
       "\t<tr><td>Caffeine         </td><td>Impulsive        </td></tr>\n",
       "\t<tr><td>Caffeine         </td><td>Education        </td></tr>\n",
       "\t<tr><td>Caffeine         </td><td>Cannabis         </td></tr>\n",
       "\t<tr><td>Caffeine         </td><td>Meth             </td></tr>\n",
       "\t<tr><td>Cannabis         </td><td>Oscore           </td></tr>\n",
       "\t<tr><td>Cannabis         </td><td>Ascore           </td></tr>\n",
       "\t<tr><td>Cannabis         </td><td>Cscore           </td></tr>\n",
       "\t<tr><td>Cannabis         </td><td>Escore           </td></tr>\n",
       "\t<tr><td>Cannabis         </td><td>Nscore           </td></tr>\n",
       "\t<tr><td>Cannabis         </td><td>Age              </td></tr>\n",
       "\t<tr><td>Cannabis         </td><td>Gender           </td></tr>\n",
       "\t<tr><td>Cannabis         </td><td>Sensation_seeking</td></tr>\n",
       "\t<tr><td>Cannabis         </td><td>Impulsive        </td></tr>\n",
       "\t<tr><td>Cannabis         </td><td>Education        </td></tr>\n",
       "\t<tr><td>Cannabis         </td><td>Caffeine         </td></tr>\n",
       "\t<tr><td>Cannabis         </td><td>Meth             </td></tr>\n",
       "\t<tr><td>Meth             </td><td>Oscore           </td></tr>\n",
       "\t<tr><td>Meth             </td><td>Ascore           </td></tr>\n",
       "\t<tr><td>Meth             </td><td>Cscore           </td></tr>\n",
       "\t<tr><td>Meth             </td><td>Escore           </td></tr>\n",
       "\t<tr><td>Meth             </td><td>Nscore           </td></tr>\n",
       "\t<tr><td>Meth             </td><td>Age              </td></tr>\n",
       "\t<tr><td>Meth             </td><td>Gender           </td></tr>\n",
       "\t<tr><td>Meth             </td><td>Sensation_seeking</td></tr>\n",
       "\t<tr><td>Meth             </td><td>Impulsive        </td></tr>\n",
       "\t<tr><td>Meth             </td><td>Education        </td></tr>\n",
       "\t<tr><td>Meth             </td><td>Cannabis         </td></tr>\n",
       "\t<tr><td>Meth             </td><td>Caffeine         </td></tr>\n",
       "</tbody>\n",
       "</table>\n"
      ],
      "text/latex": [
       "\\begin{tabular}{r|ll}\n",
       " from & to\\\\\n",
       "\\hline\n",
       "\t Escore & Oscore\\\\\n",
       "\t Escore & Ascore\\\\\n",
       "\t Escore & Cscore\\\\\n",
       "\t Escore & Nscore\\\\\n",
       "\t Escore & Age   \\\\\n",
       "\t Escore & Gender\\\\\n",
       "\t Oscore & Escore\\\\\n",
       "\t Oscore & Ascore\\\\\n",
       "\t Oscore & Cscore\\\\\n",
       "\t Oscore & Nscore\\\\\n",
       "\t Oscore & Age   \\\\\n",
       "\t Oscore & Gender\\\\\n",
       "\t Ascore & Escore\\\\\n",
       "\t Ascore & Oscore\\\\\n",
       "\t Ascore & Cscore\\\\\n",
       "\t Ascore & Nscore\\\\\n",
       "\t Ascore & Age   \\\\\n",
       "\t Ascore & Gender\\\\\n",
       "\t Cscore & Escore\\\\\n",
       "\t Cscore & Oscore\\\\\n",
       "\t Cscore & Ascore\\\\\n",
       "\t Cscore & Nscore\\\\\n",
       "\t Cscore & Age   \\\\\n",
       "\t Cscore & Gender\\\\\n",
       "\t Nscore & Oscore\\\\\n",
       "\t Nscore & Ascore\\\\\n",
       "\t Nscore & Cscore\\\\\n",
       "\t Nscore & Escore\\\\\n",
       "\t Nscore & Age   \\\\\n",
       "\t Nscore & Gender\\\\\n",
       "\t ... & ...\\\\\n",
       "\t Caffeine          & Gender           \\\\\n",
       "\t Caffeine            & Sensation\\_seeking\\\\\n",
       "\t Caffeine          & Impulsive        \\\\\n",
       "\t Caffeine          & Education        \\\\\n",
       "\t Caffeine          & Cannabis         \\\\\n",
       "\t Caffeine          & Meth             \\\\\n",
       "\t Cannabis          & Oscore           \\\\\n",
       "\t Cannabis          & Ascore           \\\\\n",
       "\t Cannabis          & Cscore           \\\\\n",
       "\t Cannabis          & Escore           \\\\\n",
       "\t Cannabis          & Nscore           \\\\\n",
       "\t Cannabis          & Age              \\\\\n",
       "\t Cannabis          & Gender           \\\\\n",
       "\t Cannabis            & Sensation\\_seeking\\\\\n",
       "\t Cannabis          & Impulsive        \\\\\n",
       "\t Cannabis          & Education        \\\\\n",
       "\t Cannabis          & Caffeine         \\\\\n",
       "\t Cannabis          & Meth             \\\\\n",
       "\t Meth              & Oscore           \\\\\n",
       "\t Meth              & Ascore           \\\\\n",
       "\t Meth              & Cscore           \\\\\n",
       "\t Meth              & Escore           \\\\\n",
       "\t Meth              & Nscore           \\\\\n",
       "\t Meth              & Age              \\\\\n",
       "\t Meth              & Gender           \\\\\n",
       "\t Meth                & Sensation\\_seeking\\\\\n",
       "\t Meth              & Impulsive        \\\\\n",
       "\t Meth              & Education        \\\\\n",
       "\t Meth              & Cannabis         \\\\\n",
       "\t Meth              & Caffeine         \\\\\n",
       "\\end{tabular}\n"
      ],
      "text/markdown": [
       "\n",
       "| from | to |\n",
       "|---|---|\n",
       "| Escore | Oscore |\n",
       "| Escore | Ascore |\n",
       "| Escore | Cscore |\n",
       "| Escore | Nscore |\n",
       "| Escore | Age    |\n",
       "| Escore | Gender |\n",
       "| Oscore | Escore |\n",
       "| Oscore | Ascore |\n",
       "| Oscore | Cscore |\n",
       "| Oscore | Nscore |\n",
       "| Oscore | Age    |\n",
       "| Oscore | Gender |\n",
       "| Ascore | Escore |\n",
       "| Ascore | Oscore |\n",
       "| Ascore | Cscore |\n",
       "| Ascore | Nscore |\n",
       "| Ascore | Age    |\n",
       "| Ascore | Gender |\n",
       "| Cscore | Escore |\n",
       "| Cscore | Oscore |\n",
       "| Cscore | Ascore |\n",
       "| Cscore | Nscore |\n",
       "| Cscore | Age    |\n",
       "| Cscore | Gender |\n",
       "| Nscore | Oscore |\n",
       "| Nscore | Ascore |\n",
       "| Nscore | Cscore |\n",
       "| Nscore | Escore |\n",
       "| Nscore | Age    |\n",
       "| Nscore | Gender |\n",
       "| ... | ... |\n",
       "| Caffeine          | Gender            |\n",
       "| Caffeine          | Sensation_seeking |\n",
       "| Caffeine          | Impulsive         |\n",
       "| Caffeine          | Education         |\n",
       "| Caffeine          | Cannabis          |\n",
       "| Caffeine          | Meth              |\n",
       "| Cannabis          | Oscore            |\n",
       "| Cannabis          | Ascore            |\n",
       "| Cannabis          | Cscore            |\n",
       "| Cannabis          | Escore            |\n",
       "| Cannabis          | Nscore            |\n",
       "| Cannabis          | Age               |\n",
       "| Cannabis          | Gender            |\n",
       "| Cannabis          | Sensation_seeking |\n",
       "| Cannabis          | Impulsive         |\n",
       "| Cannabis          | Education         |\n",
       "| Cannabis          | Caffeine          |\n",
       "| Cannabis          | Meth              |\n",
       "| Meth              | Oscore            |\n",
       "| Meth              | Ascore            |\n",
       "| Meth              | Cscore            |\n",
       "| Meth              | Escore            |\n",
       "| Meth              | Nscore            |\n",
       "| Meth              | Age               |\n",
       "| Meth              | Gender            |\n",
       "| Meth              | Sensation_seeking |\n",
       "| Meth              | Impulsive         |\n",
       "| Meth              | Education         |\n",
       "| Meth              | Cannabis          |\n",
       "| Meth              | Caffeine          |\n",
       "\n"
      ],
      "text/plain": [
       "    from     to               \n",
       "1   Escore   Oscore           \n",
       "2   Escore   Ascore           \n",
       "3   Escore   Cscore           \n",
       "4   Escore   Nscore           \n",
       "5   Escore   Age              \n",
       "6   Escore   Gender           \n",
       "7   Oscore   Escore           \n",
       "8   Oscore   Ascore           \n",
       "9   Oscore   Cscore           \n",
       "10  Oscore   Nscore           \n",
       "11  Oscore   Age              \n",
       "12  Oscore   Gender           \n",
       "13  Ascore   Escore           \n",
       "14  Ascore   Oscore           \n",
       "15  Ascore   Cscore           \n",
       "16  Ascore   Nscore           \n",
       "17  Ascore   Age              \n",
       "18  Ascore   Gender           \n",
       "19  Cscore   Escore           \n",
       "20  Cscore   Oscore           \n",
       "21  Cscore   Ascore           \n",
       "22  Cscore   Nscore           \n",
       "23  Cscore   Age              \n",
       "24  Cscore   Gender           \n",
       "25  Nscore   Oscore           \n",
       "26  Nscore   Ascore           \n",
       "27  Nscore   Cscore           \n",
       "28  Nscore   Escore           \n",
       "29  Nscore   Age              \n",
       "30  Nscore   Gender           \n",
       "... ...      ...              \n",
       "60  Caffeine Gender           \n",
       "61  Caffeine Sensation_seeking\n",
       "62  Caffeine Impulsive        \n",
       "63  Caffeine Education        \n",
       "64  Caffeine Cannabis         \n",
       "65  Caffeine Meth             \n",
       "66  Cannabis Oscore           \n",
       "67  Cannabis Ascore           \n",
       "68  Cannabis Cscore           \n",
       "69  Cannabis Escore           \n",
       "70  Cannabis Nscore           \n",
       "71  Cannabis Age              \n",
       "72  Cannabis Gender           \n",
       "73  Cannabis Sensation_seeking\n",
       "74  Cannabis Impulsive        \n",
       "75  Cannabis Education        \n",
       "76  Cannabis Caffeine         \n",
       "77  Cannabis Meth             \n",
       "78  Meth     Oscore           \n",
       "79  Meth     Ascore           \n",
       "80  Meth     Cscore           \n",
       "81  Meth     Escore           \n",
       "82  Meth     Nscore           \n",
       "83  Meth     Age              \n",
       "84  Meth     Gender           \n",
       "85  Meth     Sensation_seeking\n",
       "86  Meth     Impulsive        \n",
       "87  Meth     Education        \n",
       "88  Meth     Cannabis         \n",
       "89  Meth     Caffeine         "
      ]
     },
     "metadata": {},
     "output_type": "display_data"
    }
   ],
   "source": [
    "# Let's make some assumptions about our data (see assignment 1) - Less aggressive this time\n",
    "\n",
    "loops2 <- data.frame(\n",
    "  \"from\" = c(\n",
    "             rep(\"Escore\",2), \n",
    "             rep(\"Oscore\",2), \n",
    "             rep(\"Ascore\",2), \n",
    "             rep(\"Cscore\",2), \n",
    "             rep(\"Nscore\",2),\n",
    "             rep(\"Sensation_seeking\",2),\n",
    "             rep(\"Impulsive\",2),\n",
    "             rep(\"Education\",9),\n",
    "             rep(\"Caffeine\",10),\n",
    "             rep(\"Cannabis\",10),\n",
    "             rep(\"Meth\",10)\n",
    "\n",
    "             ),\n",
    "  \"to\" = c(\n",
    "           \"Age\", \"Gender\",\n",
    "           \"Age\", \"Gender\",\n",
    "           \"Age\", \"Gender\",\n",
    "           \"Age\", \"Gender\",\n",
    "           \"Age\", \"Gender\",\n",
    "           \"Age\", \"Gender\",\n",
    "           \"Age\", \"Gender\",\n",
    "           \"Oscore\",\"Ascore\",\"Cscore\",\"Escore\", \"Nscore\", \"Age\", \"Gender\", \"Sensation_seeking\", \"Impulsive\",\n",
    "           \"Oscore\",\"Ascore\",\"Cscore\",\"Escore\", \"Nscore\", \"Age\", \"Gender\", \"Sensation_seeking\", \"Impulsive\", \"Education\",\n",
    "           \"Oscore\",\"Ascore\",\"Cscore\",\"Escore\", \"Nscore\", \"Age\", \"Gender\", \"Sensation_seeking\", \"Impulsive\", \"Education\",\n",
    "           \"Oscore\",\"Ascore\",\"Cscore\",\"Escore\", \"Nscore\", \"Age\", \"Gender\", \"Sensation_seeking\", \"Impulsive\", \"Education\"\n",
    "           ))\n",
    "loops"
   ]
  },
  {
   "cell_type": "code",
   "execution_count": 29,
   "metadata": {},
   "outputs": [
    {
     "data": {
      "text/plain": [
       "\n",
       "  Bayesian network learned via Hybrid methods\n",
       "\n",
       "  model:\n",
       "   [Age][Gender][Caffeine][Education|Age][Nscore|Gender][Cannabis|Age]\n",
       "   [Ascore|Gender:Nscore][Meth|Cannabis][Cscore|Nscore:Ascore][Impulsive|Cscore]\n",
       "   [Sensation_seeking|Gender:Impulsive][Oscore|Sensation_seeking]\n",
       "   [Escore|Nscore:Oscore:Cscore:Sensation_seeking]\n",
       "  nodes:                                 13 \n",
       "  arcs:                                  16 \n",
       "    undirected arcs:                     0 \n",
       "    directed arcs:                       16 \n",
       "  average markov blanket size:           3.23 \n",
       "  average neighbourhood size:            2.46 \n",
       "  average branching factor:              1.23 \n",
       "\n",
       "  learning algorithm:                    Max-Min Hill-Climbing \n",
       "  constraint-based method:               Max-Min Parent Children \n",
       "  conditional independence test:         Mutual Information (cond. Gauss.) \n",
       "  score-based method:                    Hill-Climbing \n",
       "  score:                                 BIC (cond. Gauss.) \n",
       "  alpha threshold:                       0.05 \n",
       "  penalization coefficient:              3.770842 \n",
       "  tests used in the learning procedure:  1528 \n",
       "  optimized:                             TRUE \n"
      ]
     },
     "metadata": {},
     "output_type": "display_data"
    },
    {
     "data": {
      "image/png": "[encoded data removed]",
      "text/plain": [
       "plot without title"
      ]
     },
     "metadata": {},
     "output_type": "display_data"
    }
   ],
   "source": [
    "# Less aggressive gives more interesting results if you ask me\n",
    "\n",
    "fit_less_constraint_based <- mmhc(df, blacklist = loops2)\n",
    "plot(fit_less_constraint_based)\n",
    "fit_less_constraint_based"
   ]
  },
  {
   "cell_type": "markdown",
   "metadata": {},
   "source": [
    "## Score testing / Model comparison"
   ]
  },
  {
   "cell_type": "code",
   "execution_count": 37,
   "metadata": {},
   "outputs": [
    {
     "name": "stdout",
     "output_type": "stream",
     "text": [
      "[1] \"BIC: unconstrained_fit\"\n"
     ]
    },
    {
     "data": {
      "text/html": [
       "-50258.2439162237"
      ],
      "text/latex": [
       "-50258.2439162237"
      ],
      "text/markdown": [
       "-50258.2439162237"
      ],
      "text/plain": [
       "[1] -50258.24"
      ]
     },
     "metadata": {},
     "output_type": "display_data"
    },
    {
     "name": "stdout",
     "output_type": "stream",
     "text": [
      "[1] \"BIC: fit_constraint_based\"\n"
     ]
    },
    {
     "data": {
      "text/html": [
       "-50899.8066568035"
      ],
      "text/latex": [
       "-50899.8066568035"
      ],
      "text/markdown": [
       "-50899.8066568035"
      ],
      "text/plain": [
       "[1] -50899.81"
      ]
     },
     "metadata": {},
     "output_type": "display_data"
    },
    {
     "name": "stdout",
     "output_type": "stream",
     "text": [
      "[1] \"BIC: fit_less_constraint_based\"\n"
     ]
    },
    {
     "data": {
      "text/html": [
       "-50273.5222444994"
      ],
      "text/latex": [
       "-50273.5222444994"
      ],
      "text/markdown": [
       "-50273.5222444994"
      ],
      "text/plain": [
       "[1] -50273.52"
      ]
     },
     "metadata": {},
     "output_type": "display_data"
    }
   ],
   "source": [
    "# The default score is BIC if I interpretted the documentation correctly - This makes the 3 commented line error weird though..\n",
    "\n",
    "print(\"BIC: unconstrained_fit\")\n",
    "\n",
    "score(unconstrained_fit, df)\n",
    "\n",
    "print(\"BIC: fit_constraint_based\")\n",
    "\n",
    "score(fit_constraint_based, df)\n",
    "\n",
    "print(\"BIC: fit_less_constraint_based\")\n",
    "\n",
    "score(fit_less_constraint_based, df)\n",
    "\n",
    "\n",
    "# score(fit_less_constraint_based, df, type = \"bic\") # This gives a strange error stating it only works for Discrete?\n",
    "# score(fit_less_constraint_based, df, type = \"aic\") # This gives a strange error stating it only works for Discrete?\n",
    "# score(fit_less_constraint_based, df, type = \"bde\") # This gives a strange error stating it only works for Discrete?"
   ]
  },
  {
   "cell_type": "markdown",
   "metadata": {},
   "source": [
    "## Path Coefficients"
   ]
  },
  {
   "cell_type": "markdown",
   "metadata": {},
   "source": [
    "### Everything below is an experiment that did not work out ... YET!"
   ]
  },
  {
   "cell_type": "code",
   "execution_count": 17,
   "metadata": {},
   "outputs": [
    {
     "data": {
      "text/html": [
       "<table>\n",
       "<thead><tr><th></th><th scope=col>Age</th><th scope=col>Gender</th><th scope=col>Education</th><th scope=col>Nscore</th><th scope=col>Escore</th><th scope=col>Oscore</th><th scope=col>Ascore</th><th scope=col>Cscore</th><th scope=col>Impulsive</th><th scope=col>Sensation_seeking</th><th scope=col>Caffeine</th><th scope=col>Cannabis</th><th scope=col>Meth</th></tr></thead>\n",
       "<tbody>\n",
       "\t<tr><th scope=row>Age</th><td> 1.00000000 </td><td>-0.12196667 </td><td> 0.17546243 </td><td>-0.15046761 </td><td>-0.02788125 </td><td>-0.23929895 </td><td> 0.07019570 </td><td> 0.211937645</td><td>-0.20496263 </td><td>-0.35006985 </td><td> 0.142989079</td><td>-0.47637466 </td><td>-0.26129642 </td></tr>\n",
       "\t<tr><th scope=row>Gender</th><td>-0.12196667 </td><td> 1.00000000 </td><td>-0.20129931 </td><td>-0.07039285 </td><td>-0.06116698 </td><td> 0.13599424 </td><td>-0.22038676 </td><td>-0.183906636</td><td> 0.16749166 </td><td> 0.24427660 </td><td> 0.010175866</td><td> 0.30915512 </td><td> 0.24514444 </td></tr>\n",
       "\t<tr><th scope=row>Education</th><td> 0.17546243 </td><td>-0.20129931 </td><td> 1.00000000 </td><td>-0.10283732 </td><td> 0.12035190 </td><td> 0.06496818 </td><td> 0.09246585 </td><td> 0.245952853</td><td>-0.13597674 </td><td>-0.13458276 </td><td> 0.056165131</td><td>-0.26896354 </td><td>-0.22922808 </td></tr>\n",
       "\t<tr><th scope=row>Nscore</th><td>-0.15046761 </td><td>-0.07039285 </td><td>-0.10283732 </td><td> 1.00000000 </td><td>-0.43296725 </td><td> 0.01662559 </td><td>-0.21514520 </td><td>-0.398678551</td><td> 0.17722595 </td><td> 0.08466570 </td><td> 0.020492632</td><td> 0.10900993 </td><td> 0.24810640 </td></tr>\n",
       "\t<tr><th scope=row>Escore</th><td>-0.02788125 </td><td>-0.06116698 </td><td> 0.12035190 </td><td>-0.43296725 </td><td> 1.00000000 </td><td> 0.23606577 </td><td> 0.15906490 </td><td> 0.318780114</td><td> 0.10804309 </td><td> 0.20457370 </td><td> 0.044232070</td><td>-0.02543117 </td><td>-0.15833390 </td></tr>\n",
       "\t<tr><th scope=row>Oscore</th><td>-0.23929895 </td><td> 0.13599424 </td><td> 0.06496818 </td><td> 0.01662559 </td><td> 0.23606577 </td><td> 1.00000000 </td><td> 0.03280548 </td><td>-0.059995922</td><td> 0.27441450 </td><td> 0.41986449 </td><td>-0.002071750</td><td> 0.42945186 </td><td> 0.24465898 </td></tr>\n",
       "\t<tr><th scope=row>Ascore</th><td> 0.07019570 </td><td>-0.22038676 </td><td> 0.09246585 </td><td>-0.21514520 </td><td> 0.15906490 </td><td> 0.03280548 </td><td> 1.00000000 </td><td> 0.249608607</td><td>-0.23174009 </td><td>-0.21242041 </td><td>-0.013683783</td><td>-0.16369100 </td><td>-0.20534460 </td></tr>\n",
       "\t<tr><th scope=row>Cscore</th><td> 0.21193765 </td><td>-0.18390664 </td><td> 0.24595285 </td><td>-0.39867855 </td><td> 0.31878011 </td><td>-0.05999592 </td><td> 0.24960861 </td><td> 1.000000000</td><td>-0.34225017 </td><td>-0.23258588 </td><td>-0.004265342</td><td>-0.29270898 </td><td>-0.25711483 </td></tr>\n",
       "\t<tr><th scope=row>Impulsive</th><td>-0.20496263 </td><td> 0.16749166 </td><td>-0.13597674 </td><td> 0.17722595 </td><td> 0.10804309 </td><td> 0.27441450 </td><td>-0.23174009 </td><td>-0.342250166</td><td> 1.00000000 </td><td> 0.62311964 </td><td> 0.028282154</td><td> 0.32288619 </td><td> 0.25227689 </td></tr>\n",
       "\t<tr><th scope=row>Sensation_seeking</th><td>-0.35006985 </td><td> 0.24427660 </td><td>-0.13458276 </td><td> 0.08466570 </td><td> 0.20457370 </td><td> 0.41986449 </td><td>-0.21242041 </td><td>-0.232585875</td><td> 0.62311964 </td><td> 1.00000000 </td><td> 0.017958549</td><td> 0.47202827 </td><td> 0.29704230 </td></tr>\n",
       "\t<tr><th scope=row>Caffeine</th><td> 0.14298908 </td><td> 0.01017587 </td><td> 0.05616513 </td><td> 0.02049263 </td><td> 0.04423207 </td><td>-0.00207175 </td><td>-0.01368378 </td><td>-0.004265342</td><td> 0.02828215 </td><td> 0.01795855 </td><td> 1.000000000</td><td> 0.02068484 </td><td> 0.02970868 </td></tr>\n",
       "\t<tr><th scope=row>Cannabis</th><td>-0.47637466 </td><td> 0.30915512 </td><td>-0.26896354 </td><td> 0.10900993 </td><td>-0.02543117 </td><td> 0.42945186 </td><td>-0.16369100 </td><td>-0.292708976</td><td> 0.32288619 </td><td> 0.47202827 </td><td> 0.020684840</td><td> 1.00000000 </td><td> 0.42984143 </td></tr>\n",
       "\t<tr><th scope=row>Meth</th><td>-0.26129642 </td><td> 0.24514444 </td><td>-0.22922808 </td><td> 0.24810640 </td><td>-0.15833390 </td><td> 0.24465898 </td><td>-0.20534460 </td><td>-0.257114826</td><td> 0.25227689 </td><td> 0.29704230 </td><td> 0.029708678</td><td> 0.42984143 </td><td> 1.00000000 </td></tr>\n",
       "</tbody>\n",
       "</table>\n"
      ],
      "text/latex": [
       "\\begin{tabular}{r|lllllllllllll}\n",
       "  & Age & Gender & Education & Nscore & Escore & Oscore & Ascore & Cscore & Impulsive & Sensation\\_seeking & Caffeine & Cannabis & Meth\\\\\n",
       "\\hline\n",
       "\tAge &  1.00000000  & -0.12196667  &  0.17546243  & -0.15046761  & -0.02788125  & -0.23929895  &  0.07019570  &  0.211937645 & -0.20496263  & -0.35006985  &  0.142989079 & -0.47637466  & -0.26129642 \\\\\n",
       "\tGender & -0.12196667  &  1.00000000  & -0.20129931  & -0.07039285  & -0.06116698  &  0.13599424  & -0.22038676  & -0.183906636 &  0.16749166  &  0.24427660  &  0.010175866 &  0.30915512  &  0.24514444 \\\\\n",
       "\tEducation &  0.17546243  & -0.20129931  &  1.00000000  & -0.10283732  &  0.12035190  &  0.06496818  &  0.09246585  &  0.245952853 & -0.13597674  & -0.13458276  &  0.056165131 & -0.26896354  & -0.22922808 \\\\\n",
       "\tNscore & -0.15046761  & -0.07039285  & -0.10283732  &  1.00000000  & -0.43296725  &  0.01662559  & -0.21514520  & -0.398678551 &  0.17722595  &  0.08466570  &  0.020492632 &  0.10900993  &  0.24810640 \\\\\n",
       "\tEscore & -0.02788125  & -0.06116698  &  0.12035190  & -0.43296725  &  1.00000000  &  0.23606577  &  0.15906490  &  0.318780114 &  0.10804309  &  0.20457370  &  0.044232070 & -0.02543117  & -0.15833390 \\\\\n",
       "\tOscore & -0.23929895  &  0.13599424  &  0.06496818  &  0.01662559  &  0.23606577  &  1.00000000  &  0.03280548  & -0.059995922 &  0.27441450  &  0.41986449  & -0.002071750 &  0.42945186  &  0.24465898 \\\\\n",
       "\tAscore &  0.07019570  & -0.22038676  &  0.09246585  & -0.21514520  &  0.15906490  &  0.03280548  &  1.00000000  &  0.249608607 & -0.23174009  & -0.21242041  & -0.013683783 & -0.16369100  & -0.20534460 \\\\\n",
       "\tCscore &  0.21193765  & -0.18390664  &  0.24595285  & -0.39867855  &  0.31878011  & -0.05999592  &  0.24960861  &  1.000000000 & -0.34225017  & -0.23258588  & -0.004265342 & -0.29270898  & -0.25711483 \\\\\n",
       "\tImpulsive & -0.20496263  &  0.16749166  & -0.13597674  &  0.17722595  &  0.10804309  &  0.27441450  & -0.23174009  & -0.342250166 &  1.00000000  &  0.62311964  &  0.028282154 &  0.32288619  &  0.25227689 \\\\\n",
       "\tSensation\\_seeking & -0.35006985  &  0.24427660  & -0.13458276  &  0.08466570  &  0.20457370  &  0.41986449  & -0.21242041  & -0.232585875 &  0.62311964  &  1.00000000  &  0.017958549 &  0.47202827  &  0.29704230 \\\\\n",
       "\tCaffeine &  0.14298908  &  0.01017587  &  0.05616513  &  0.02049263  &  0.04423207  & -0.00207175  & -0.01368378  & -0.004265342 &  0.02828215  &  0.01795855  &  1.000000000 &  0.02068484  &  0.02970868 \\\\\n",
       "\tCannabis & -0.47637466  &  0.30915512  & -0.26896354  &  0.10900993  & -0.02543117  &  0.42945186  & -0.16369100  & -0.292708976 &  0.32288619  &  0.47202827  &  0.020684840 &  1.00000000  &  0.42984143 \\\\\n",
       "\tMeth & -0.26129642  &  0.24514444  & -0.22922808  &  0.24810640  & -0.15833390  &  0.24465898  & -0.20534460  & -0.257114826 &  0.25227689  &  0.29704230  &  0.029708678 &  0.42984143  &  1.00000000 \\\\\n",
       "\\end{tabular}\n"
      ],
      "text/markdown": [
       "\n",
       "| <!--/--> | Age | Gender | Education | Nscore | Escore | Oscore | Ascore | Cscore | Impulsive | Sensation_seeking | Caffeine | Cannabis | Meth |\n",
       "|---|---|---|---|---|---|---|---|---|---|---|---|---|---|\n",
       "| Age |  1.00000000  | -0.12196667  |  0.17546243  | -0.15046761  | -0.02788125  | -0.23929895  |  0.07019570  |  0.211937645 | -0.20496263  | -0.35006985  |  0.142989079 | -0.47637466  | -0.26129642  |\n",
       "| Gender | -0.12196667  |  1.00000000  | -0.20129931  | -0.07039285  | -0.06116698  |  0.13599424  | -0.22038676  | -0.183906636 |  0.16749166  |  0.24427660  |  0.010175866 |  0.30915512  |  0.24514444  |\n",
       "| Education |  0.17546243  | -0.20129931  |  1.00000000  | -0.10283732  |  0.12035190  |  0.06496818  |  0.09246585  |  0.245952853 | -0.13597674  | -0.13458276  |  0.056165131 | -0.26896354  | -0.22922808  |\n",
       "| Nscore | -0.15046761  | -0.07039285  | -0.10283732  |  1.00000000  | -0.43296725  |  0.01662559  | -0.21514520  | -0.398678551 |  0.17722595  |  0.08466570  |  0.020492632 |  0.10900993  |  0.24810640  |\n",
       "| Escore | -0.02788125  | -0.06116698  |  0.12035190  | -0.43296725  |  1.00000000  |  0.23606577  |  0.15906490  |  0.318780114 |  0.10804309  |  0.20457370  |  0.044232070 | -0.02543117  | -0.15833390  |\n",
       "| Oscore | -0.23929895  |  0.13599424  |  0.06496818  |  0.01662559  |  0.23606577  |  1.00000000  |  0.03280548  | -0.059995922 |  0.27441450  |  0.41986449  | -0.002071750 |  0.42945186  |  0.24465898  |\n",
       "| Ascore |  0.07019570  | -0.22038676  |  0.09246585  | -0.21514520  |  0.15906490  |  0.03280548  |  1.00000000  |  0.249608607 | -0.23174009  | -0.21242041  | -0.013683783 | -0.16369100  | -0.20534460  |\n",
       "| Cscore |  0.21193765  | -0.18390664  |  0.24595285  | -0.39867855  |  0.31878011  | -0.05999592  |  0.24960861  |  1.000000000 | -0.34225017  | -0.23258588  | -0.004265342 | -0.29270898  | -0.25711483  |\n",
       "| Impulsive | -0.20496263  |  0.16749166  | -0.13597674  |  0.17722595  |  0.10804309  |  0.27441450  | -0.23174009  | -0.342250166 |  1.00000000  |  0.62311964  |  0.028282154 |  0.32288619  |  0.25227689  |\n",
       "| Sensation_seeking | -0.35006985  |  0.24427660  | -0.13458276  |  0.08466570  |  0.20457370  |  0.41986449  | -0.21242041  | -0.232585875 |  0.62311964  |  1.00000000  |  0.017958549 |  0.47202827  |  0.29704230  |\n",
       "| Caffeine |  0.14298908  |  0.01017587  |  0.05616513  |  0.02049263  |  0.04423207  | -0.00207175  | -0.01368378  | -0.004265342 |  0.02828215  |  0.01795855  |  1.000000000 |  0.02068484  |  0.02970868  |\n",
       "| Cannabis | -0.47637466  |  0.30915512  | -0.26896354  |  0.10900993  | -0.02543117  |  0.42945186  | -0.16369100  | -0.292708976 |  0.32288619  |  0.47202827  |  0.020684840 |  1.00000000  |  0.42984143  |\n",
       "| Meth | -0.26129642  |  0.24514444  | -0.22922808  |  0.24810640  | -0.15833390  |  0.24465898  | -0.20534460  | -0.257114826 |  0.25227689  |  0.29704230  |  0.029708678 |  0.42984143  |  1.00000000  |\n",
       "\n"
      ],
      "text/plain": [
       "                  Age         Gender      Education   Nscore      Escore     \n",
       "Age                1.00000000 -0.12196667  0.17546243 -0.15046761 -0.02788125\n",
       "Gender            -0.12196667  1.00000000 -0.20129931 -0.07039285 -0.06116698\n",
       "Education          0.17546243 -0.20129931  1.00000000 -0.10283732  0.12035190\n",
       "Nscore            -0.15046761 -0.07039285 -0.10283732  1.00000000 -0.43296725\n",
       "Escore            -0.02788125 -0.06116698  0.12035190 -0.43296725  1.00000000\n",
       "Oscore            -0.23929895  0.13599424  0.06496818  0.01662559  0.23606577\n",
       "Ascore             0.07019570 -0.22038676  0.09246585 -0.21514520  0.15906490\n",
       "Cscore             0.21193765 -0.18390664  0.24595285 -0.39867855  0.31878011\n",
       "Impulsive         -0.20496263  0.16749166 -0.13597674  0.17722595  0.10804309\n",
       "Sensation_seeking -0.35006985  0.24427660 -0.13458276  0.08466570  0.20457370\n",
       "Caffeine           0.14298908  0.01017587  0.05616513  0.02049263  0.04423207\n",
       "Cannabis          -0.47637466  0.30915512 -0.26896354  0.10900993 -0.02543117\n",
       "Meth              -0.26129642  0.24514444 -0.22922808  0.24810640 -0.15833390\n",
       "                  Oscore      Ascore      Cscore       Impulsive  \n",
       "Age               -0.23929895  0.07019570  0.211937645 -0.20496263\n",
       "Gender             0.13599424 -0.22038676 -0.183906636  0.16749166\n",
       "Education          0.06496818  0.09246585  0.245952853 -0.13597674\n",
       "Nscore             0.01662559 -0.21514520 -0.398678551  0.17722595\n",
       "Escore             0.23606577  0.15906490  0.318780114  0.10804309\n",
       "Oscore             1.00000000  0.03280548 -0.059995922  0.27441450\n",
       "Ascore             0.03280548  1.00000000  0.249608607 -0.23174009\n",
       "Cscore            -0.05999592  0.24960861  1.000000000 -0.34225017\n",
       "Impulsive          0.27441450 -0.23174009 -0.342250166  1.00000000\n",
       "Sensation_seeking  0.41986449 -0.21242041 -0.232585875  0.62311964\n",
       "Caffeine          -0.00207175 -0.01368378 -0.004265342  0.02828215\n",
       "Cannabis           0.42945186 -0.16369100 -0.292708976  0.32288619\n",
       "Meth               0.24465898 -0.20534460 -0.257114826  0.25227689\n",
       "                  Sensation_seeking Caffeine     Cannabis    Meth       \n",
       "Age               -0.35006985        0.142989079 -0.47637466 -0.26129642\n",
       "Gender             0.24427660        0.010175866  0.30915512  0.24514444\n",
       "Education         -0.13458276        0.056165131 -0.26896354 -0.22922808\n",
       "Nscore             0.08466570        0.020492632  0.10900993  0.24810640\n",
       "Escore             0.20457370        0.044232070 -0.02543117 -0.15833390\n",
       "Oscore             0.41986449       -0.002071750  0.42945186  0.24465898\n",
       "Ascore            -0.21242041       -0.013683783 -0.16369100 -0.20534460\n",
       "Cscore            -0.23258588       -0.004265342 -0.29270898 -0.25711483\n",
       "Impulsive          0.62311964        0.028282154  0.32288619  0.25227689\n",
       "Sensation_seeking  1.00000000        0.017958549  0.47202827  0.29704230\n",
       "Caffeine           0.01795855        1.000000000  0.02068484  0.02970868\n",
       "Cannabis           0.47202827        0.020684840  1.00000000  0.42984143\n",
       "Meth               0.29704230        0.029708678  0.42984143  1.00000000"
      ]
     },
     "metadata": {},
     "output_type": "display_data"
    }
   ],
   "source": [
    "# Creating the cor matrix and visually inspecting it\n",
    "\n",
    "M <- lavCor(df)\n",
    "M"
   ]
  },
  {
   "cell_type": "code",
   "execution_count": 27,
   "metadata": {},
   "outputs": [
    {
     "data": {
      "text/html": [
       "<dl>\n",
       "\t<dt>$x</dt>\n",
       "\t\t<dd><strong>:</strong> &lt;NA&gt;</dd>\n",
       "\t<dt>$y</dt>\n",
       "\t\t<dd><strong>:</strong> &lt;NA&gt;</dd>\n",
       "</dl>\n"
      ],
      "text/latex": [
       "\\begin{description}\n",
       "\\item[\\$x] \\textbf{:} <NA>\n",
       "\\item[\\$y] \\textbf{:} <NA>\n",
       "\\end{description}\n"
      ],
      "text/markdown": [
       "$x\n",
       ":   **:** &lt;NA&gt;\n",
       "$y\n",
       ":   **:** &lt;NA&gt;\n",
       "\n",
       "\n"
      ],
      "text/plain": [
       "$x\n",
       "   \n",
       "NA \n",
       "\n",
       "$y\n",
       "   \n",
       "NA \n"
      ]
     },
     "metadata": {},
     "output_type": "display_data"
    }
   ],
   "source": [
    "# Extracting the coordinates\n",
    "\n",
    "cg <- coordinates(fit_constraint_based)\n",
    "\n",
    "# Hmmm this is not looking too hot\n",
    "\n",
    "cg\n",
    "\n",
    "\n",
    "# Fitting the graph with training data and our cov matrix\n",
    "\n",
    "# fit <- lavaan( toString(fit_constraint_based,\"lavaan\"), sample.cov=M, sample.nobs=nrow(df),estimator=\"ML\",auto.var=TRUE) # Estimating using maximum likelihood\n",
    "\n",
    "# Summary of the fit\n",
    "\n",
    "# summary(fit)"
   ]
  },
  {
   "cell_type": "code",
   "execution_count": 25,
   "metadata": {},
   "outputs": [
    {
     "data": {
      "text/html": [
       "<dl>\n",
       "\t<dt>$x</dt>\n",
       "\t\t<dd><strong>:</strong> &lt;NA&gt;</dd>\n",
       "\t<dt>$y</dt>\n",
       "\t\t<dd><strong>:</strong> &lt;NA&gt;</dd>\n",
       "</dl>\n"
      ],
      "text/latex": [
       "\\begin{description}\n",
       "\\item[\\$x] \\textbf{:} <NA>\n",
       "\\item[\\$y] \\textbf{:} <NA>\n",
       "\\end{description}\n"
      ],
      "text/markdown": [
       "$x\n",
       ":   **:** &lt;NA&gt;\n",
       "$y\n",
       ":   **:** &lt;NA&gt;\n",
       "\n",
       "\n"
      ],
      "text/plain": [
       "$x\n",
       "   \n",
       "NA \n",
       "\n",
       "$y\n",
       "   \n",
       "NA \n"
      ]
     },
     "metadata": {},
     "output_type": "display_data"
    },
    {
     "data": {
      "image/png": "[encoded data removed]",
      "text/plain": [
       "plot without title"
      ]
     },
     "metadata": {},
     "output_type": "display_data"
    }
   ],
   "source": [
    "network <- model2network(toString(fit_constraint_based,\"bnlearn\"))\n",
    "plot(network)\n",
    "cg <- coordinates(network)\n",
    "cg"
   ]
  }
 ],
 "metadata": {
  "kernelspec": {
   "display_name": "R",
   "language": "R",
   "name": "ir"
  },
  "language_info": {
   "codemirror_mode": "r",
   "file_extension": ".r",
   "mimetype": "text/x-r-source",
   "name": "R",
   "pygments_lexer": "r",
   "version": "3.6.1"
  }
 },
 "nbformat": 4,
 "nbformat_minor": 4
}
